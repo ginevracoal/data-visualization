{
 "cells": [
  {
   "cell_type": "markdown",
   "metadata": {},
   "source": [
    "# Eurovision Song Contest"
   ]
  },
  {
   "cell_type": "markdown",
   "metadata": {},
   "source": [
    "This notebook requires that the following files (from https://github.com/mantzaris/eurovision) are in the same directory:\n",
    "- 1957.csv\n",
    "- 1958.csv\n",
    "- ...\n",
    "- 2017.csv"
   ]
  },
  {
   "cell_type": "markdown",
   "metadata": {},
   "source": [
    "## Import the libraries"
   ]
  },
  {
   "cell_type": "code",
   "execution_count": 1,
   "metadata": {},
   "outputs": [],
   "source": [
    "import numpy as np\n",
    "import matplotlib.pyplot as plt\n",
    "import pandas as pd"
   ]
  },
  {
   "cell_type": "code",
   "execution_count": 14,
   "metadata": {},
   "outputs": [],
   "source": [
    "import numpy as np\n",
    "# matplotlib\n",
    "import matplotlib.pyplot as plt\n",
    "from matplotlib.colors import ListedColormap, BoundaryNorm, to_hex\n",
    "from matplotlib.ticker import MultipleLocator\n",
    "%matplotlib inline\n",
    "# pandas\n",
    "import pandas as pd"
   ]
  },
  {
   "cell_type": "markdown",
   "metadata": {},
   "source": [
    "## Read the data"
   ]
  },
  {
   "cell_type": "code",
   "execution_count": 3,
   "metadata": {},
   "outputs": [
    {
     "data": {
      "text/html": [
       "<div>\n",
       "<style scoped>\n",
       "    .dataframe tbody tr th:only-of-type {\n",
       "        vertical-align: middle;\n",
       "    }\n",
       "\n",
       "    .dataframe tbody tr th {\n",
       "        vertical-align: top;\n",
       "    }\n",
       "\n",
       "    .dataframe thead th {\n",
       "        text-align: right;\n",
       "    }\n",
       "</style>\n",
       "<table border=\"1\" class=\"dataframe\">\n",
       "  <thead>\n",
       "    <tr style=\"text-align: right;\">\n",
       "      <th></th>\n",
       "      <th>From country</th>\n",
       "      <th>Austria</th>\n",
       "      <th>Belgium</th>\n",
       "      <th>Denmark</th>\n",
       "      <th>France</th>\n",
       "      <th>Germany</th>\n",
       "      <th>Italy</th>\n",
       "      <th>Luxembourg</th>\n",
       "      <th>Switzerland</th>\n",
       "      <th>The Netherlands</th>\n",
       "      <th>United Kingdom</th>\n",
       "    </tr>\n",
       "  </thead>\n",
       "  <tbody>\n",
       "    <tr>\n",
       "      <th>0</th>\n",
       "      <td>Austria</td>\n",
       "      <td>0</td>\n",
       "      <td>0</td>\n",
       "      <td>0</td>\n",
       "      <td>0</td>\n",
       "      <td>0</td>\n",
       "      <td>0</td>\n",
       "      <td>3</td>\n",
       "      <td>0</td>\n",
       "      <td>6</td>\n",
       "      <td>1</td>\n",
       "    </tr>\n",
       "    <tr>\n",
       "      <th>1</th>\n",
       "      <td>Belgium</td>\n",
       "      <td>0</td>\n",
       "      <td>0</td>\n",
       "      <td>0</td>\n",
       "      <td>2</td>\n",
       "      <td>1</td>\n",
       "      <td>1</td>\n",
       "      <td>0</td>\n",
       "      <td>0</td>\n",
       "      <td>5</td>\n",
       "      <td>1</td>\n",
       "    </tr>\n",
       "    <tr>\n",
       "      <th>2</th>\n",
       "      <td>Denmark</td>\n",
       "      <td>0</td>\n",
       "      <td>2</td>\n",
       "      <td>0</td>\n",
       "      <td>2</td>\n",
       "      <td>0</td>\n",
       "      <td>1</td>\n",
       "      <td>0</td>\n",
       "      <td>2</td>\n",
       "      <td>3</td>\n",
       "      <td>0</td>\n",
       "    </tr>\n",
       "    <tr>\n",
       "      <th>3</th>\n",
       "      <td>France</td>\n",
       "      <td>0</td>\n",
       "      <td>0</td>\n",
       "      <td>0</td>\n",
       "      <td>0</td>\n",
       "      <td>6</td>\n",
       "      <td>0</td>\n",
       "      <td>0</td>\n",
       "      <td>0</td>\n",
       "      <td>4</td>\n",
       "      <td>0</td>\n",
       "    </tr>\n",
       "    <tr>\n",
       "      <th>4</th>\n",
       "      <td>Germany</td>\n",
       "      <td>0</td>\n",
       "      <td>2</td>\n",
       "      <td>0</td>\n",
       "      <td>6</td>\n",
       "      <td>0</td>\n",
       "      <td>0</td>\n",
       "      <td>0</td>\n",
       "      <td>1</td>\n",
       "      <td>1</td>\n",
       "      <td>0</td>\n",
       "    </tr>\n",
       "  </tbody>\n",
       "</table>\n",
       "</div>"
      ],
      "text/plain": [
       "  From country  Austria  Belgium  Denmark  France  Germany  Italy  Luxembourg  \\\n",
       "0      Austria        0        0        0       0        0      0           3   \n",
       "1      Belgium        0        0        0       2        1      1           0   \n",
       "2      Denmark        0        2        0       2        0      1           0   \n",
       "3       France        0        0        0       0        6      0           0   \n",
       "4      Germany        0        2        0       6        0      0           0   \n",
       "\n",
       "   Switzerland  The Netherlands  United Kingdom  \n",
       "0            0                6               1  \n",
       "1            0                5               1  \n",
       "2            2                3               0  \n",
       "3            0                4               0  \n",
       "4            1                1               0  "
      ]
     },
     "execution_count": 3,
     "metadata": {},
     "output_type": "execute_result"
    }
   ],
   "source": [
    "df = pd.read_csv(\"1957.csv\")\n",
    "df.head()"
   ]
  },
  {
   "cell_type": "code",
   "execution_count": 3,
   "metadata": {},
   "outputs": [
    {
     "data": {
      "text/html": [
       "<div>\n",
       "<style scoped>\n",
       "    .dataframe tbody tr th:only-of-type {\n",
       "        vertical-align: middle;\n",
       "    }\n",
       "\n",
       "    .dataframe tbody tr th {\n",
       "        vertical-align: top;\n",
       "    }\n",
       "\n",
       "    .dataframe thead th {\n",
       "        text-align: right;\n",
       "    }\n",
       "</style>\n",
       "<table border=\"1\" class=\"dataframe\">\n",
       "  <thead>\n",
       "    <tr style=\"text-align: right;\">\n",
       "      <th></th>\n",
       "      <th>From country</th>\n",
       "      <th>Albania</th>\n",
       "      <th>Armenia</th>\n",
       "      <th>Australia</th>\n",
       "      <th>Austria</th>\n",
       "      <th>Azerbaijan</th>\n",
       "      <th>Belarus</th>\n",
       "      <th>Belgium</th>\n",
       "      <th>Bulgaria</th>\n",
       "      <th>Croatia</th>\n",
       "      <th>...</th>\n",
       "      <th>Romainia</th>\n",
       "      <th>San Marino</th>\n",
       "      <th>Serbia</th>\n",
       "      <th>Slovenia</th>\n",
       "      <th>Spain</th>\n",
       "      <th>Sweden</th>\n",
       "      <th>Switzerland</th>\n",
       "      <th>The Netherlands</th>\n",
       "      <th>Ukraine</th>\n",
       "      <th>United Kingdom</th>\n",
       "    </tr>\n",
       "  </thead>\n",
       "  <tbody>\n",
       "    <tr>\n",
       "      <th>0</th>\n",
       "      <td>Albania</td>\n",
       "      <td>0</td>\n",
       "      <td>7</td>\n",
       "      <td>4</td>\n",
       "      <td>0</td>\n",
       "      <td>2</td>\n",
       "      <td>0</td>\n",
       "      <td>0</td>\n",
       "      <td>10</td>\n",
       "      <td>0</td>\n",
       "      <td>...</td>\n",
       "      <td>3</td>\n",
       "      <td>0</td>\n",
       "      <td>0</td>\n",
       "      <td>0</td>\n",
       "      <td>0</td>\n",
       "      <td>0</td>\n",
       "      <td>0</td>\n",
       "      <td>0</td>\n",
       "      <td>0</td>\n",
       "      <td>8</td>\n",
       "    </tr>\n",
       "    <tr>\n",
       "      <th>1</th>\n",
       "      <td>Armenia</td>\n",
       "      <td>0</td>\n",
       "      <td>0</td>\n",
       "      <td>0</td>\n",
       "      <td>1</td>\n",
       "      <td>0</td>\n",
       "      <td>0</td>\n",
       "      <td>0</td>\n",
       "      <td>0</td>\n",
       "      <td>0</td>\n",
       "      <td>...</td>\n",
       "      <td>0</td>\n",
       "      <td>0</td>\n",
       "      <td>0</td>\n",
       "      <td>0</td>\n",
       "      <td>0</td>\n",
       "      <td>6</td>\n",
       "      <td>0</td>\n",
       "      <td>0</td>\n",
       "      <td>0</td>\n",
       "      <td>4</td>\n",
       "    </tr>\n",
       "    <tr>\n",
       "      <th>2</th>\n",
       "      <td>Australia</td>\n",
       "      <td>0</td>\n",
       "      <td>1</td>\n",
       "      <td>0</td>\n",
       "      <td>3</td>\n",
       "      <td>0</td>\n",
       "      <td>0</td>\n",
       "      <td>0</td>\n",
       "      <td>8</td>\n",
       "      <td>0</td>\n",
       "      <td>...</td>\n",
       "      <td>0</td>\n",
       "      <td>0</td>\n",
       "      <td>0</td>\n",
       "      <td>0</td>\n",
       "      <td>0</td>\n",
       "      <td>6</td>\n",
       "      <td>0</td>\n",
       "      <td>4</td>\n",
       "      <td>0</td>\n",
       "      <td>12</td>\n",
       "    </tr>\n",
       "    <tr>\n",
       "      <th>3</th>\n",
       "      <td>Austria</td>\n",
       "      <td>0</td>\n",
       "      <td>0</td>\n",
       "      <td>0</td>\n",
       "      <td>0</td>\n",
       "      <td>0</td>\n",
       "      <td>7</td>\n",
       "      <td>2</td>\n",
       "      <td>10</td>\n",
       "      <td>0</td>\n",
       "      <td>...</td>\n",
       "      <td>0</td>\n",
       "      <td>0</td>\n",
       "      <td>0</td>\n",
       "      <td>0</td>\n",
       "      <td>0</td>\n",
       "      <td>4</td>\n",
       "      <td>0</td>\n",
       "      <td>12</td>\n",
       "      <td>0</td>\n",
       "      <td>1</td>\n",
       "    </tr>\n",
       "    <tr>\n",
       "      <th>4</th>\n",
       "      <td>Azerbaijan</td>\n",
       "      <td>0</td>\n",
       "      <td>0</td>\n",
       "      <td>0</td>\n",
       "      <td>0</td>\n",
       "      <td>0</td>\n",
       "      <td>12</td>\n",
       "      <td>0</td>\n",
       "      <td>2</td>\n",
       "      <td>1</td>\n",
       "      <td>...</td>\n",
       "      <td>3</td>\n",
       "      <td>0</td>\n",
       "      <td>0</td>\n",
       "      <td>0</td>\n",
       "      <td>0</td>\n",
       "      <td>0</td>\n",
       "      <td>0</td>\n",
       "      <td>0</td>\n",
       "      <td>7</td>\n",
       "      <td>0</td>\n",
       "    </tr>\n",
       "  </tbody>\n",
       "</table>\n",
       "<p>5 rows × 43 columns</p>\n",
       "</div>"
      ],
      "text/plain": [
       "  From country  Albania  Armenia  Australia  Austria  Azerbaijan  Belarus  \\\n",
       "0      Albania        0        7          4        0           2        0   \n",
       "1      Armenia        0        0          0        1           0        0   \n",
       "2    Australia        0        1          0        3           0        0   \n",
       "3      Austria        0        0          0        0           0        7   \n",
       "4   Azerbaijan        0        0          0        0           0       12   \n",
       "\n",
       "   Belgium  Bulgaria  Croatia       ...        Romainia  San Marino  Serbia  \\\n",
       "0        0        10        0       ...               3           0       0   \n",
       "1        0         0        0       ...               0           0       0   \n",
       "2        0         8        0       ...               0           0       0   \n",
       "3        2        10        0       ...               0           0       0   \n",
       "4        0         2        1       ...               3           0       0   \n",
       "\n",
       "   Slovenia  Spain  Sweden  Switzerland  The Netherlands  Ukraine  \\\n",
       "0         0      0       0            0                0        0   \n",
       "1         0      0       6            0                0        0   \n",
       "2         0      0       6            0                4        0   \n",
       "3         0      0       4            0               12        0   \n",
       "4         0      0       0            0                0        7   \n",
       "\n",
       "   United Kingdom  \n",
       "0               8  \n",
       "1               4  \n",
       "2              12  \n",
       "3               1  \n",
       "4               0  \n",
       "\n",
       "[5 rows x 43 columns]"
      ]
     },
     "execution_count": 3,
     "metadata": {},
     "output_type": "execute_result"
    }
   ],
   "source": [
    "df = pd.read_csv(\"2017.csv\")\n",
    "df.head()"
   ]
  },
  {
   "cell_type": "markdown",
   "metadata": {},
   "source": [
    "By chance we spot that Romania is misspelled, so we check for spelling errors"
   ]
  },
  {
   "cell_type": "code",
   "execution_count": 4,
   "metadata": {},
   "outputs": [
    {
     "name": "stdout",
     "output_type": "stream",
     "text": [
      "2017 Romainia\n"
     ]
    }
   ],
   "source": [
    "for year in range(1957, 2018):\n",
    "    df = pd.read_csv(\"{}.csv\".format(year))\n",
    "    countries1 = df['From country'].tolist()\n",
    "    countries2 = df.columns.tolist()\n",
    "    countries2.remove('From country')\n",
    "    for c2 in countries2:\n",
    "        if c2 not in countries1:\n",
    "            print(year, c2)"
   ]
  },
  {
   "cell_type": "markdown",
   "metadata": {},
   "source": [
    "Store all the data into a single data frame (and take care of the 'Romainia' spelling error) "
   ]
  },
  {
   "cell_type": "code",
   "execution_count": 5,
   "metadata": {},
   "outputs": [
    {
     "data": {
      "text/html": [
       "<div>\n",
       "<style scoped>\n",
       "    .dataframe tbody tr th:only-of-type {\n",
       "        vertical-align: middle;\n",
       "    }\n",
       "\n",
       "    .dataframe tbody tr th {\n",
       "        vertical-align: top;\n",
       "    }\n",
       "\n",
       "    .dataframe thead th {\n",
       "        text-align: right;\n",
       "    }\n",
       "</style>\n",
       "<table border=\"1\" class=\"dataframe\">\n",
       "  <thead>\n",
       "    <tr style=\"text-align: right;\">\n",
       "      <th></th>\n",
       "      <th>Albania</th>\n",
       "      <th>Armenia</th>\n",
       "      <th>Australia</th>\n",
       "      <th>Austria</th>\n",
       "      <th>Azerbaijan</th>\n",
       "      <th>Belarus</th>\n",
       "      <th>Belgium</th>\n",
       "      <th>Bosnia &amp; Herzegovina</th>\n",
       "      <th>Bulgaria</th>\n",
       "      <th>Croatia</th>\n",
       "      <th>...</th>\n",
       "      <th>Slovenia</th>\n",
       "      <th>Spain</th>\n",
       "      <th>Sweden</th>\n",
       "      <th>Switzerland</th>\n",
       "      <th>The Netherlands</th>\n",
       "      <th>Turkey</th>\n",
       "      <th>Ukraine</th>\n",
       "      <th>United Kingdom</th>\n",
       "      <th>Year</th>\n",
       "      <th>Yugoslavia</th>\n",
       "    </tr>\n",
       "  </thead>\n",
       "  <tbody>\n",
       "    <tr>\n",
       "      <th>0</th>\n",
       "      <td>NaN</td>\n",
       "      <td>NaN</td>\n",
       "      <td>NaN</td>\n",
       "      <td>0.0</td>\n",
       "      <td>NaN</td>\n",
       "      <td>NaN</td>\n",
       "      <td>0.0</td>\n",
       "      <td>NaN</td>\n",
       "      <td>NaN</td>\n",
       "      <td>NaN</td>\n",
       "      <td>...</td>\n",
       "      <td>NaN</td>\n",
       "      <td>NaN</td>\n",
       "      <td>NaN</td>\n",
       "      <td>0.0</td>\n",
       "      <td>6.0</td>\n",
       "      <td>NaN</td>\n",
       "      <td>NaN</td>\n",
       "      <td>1.0</td>\n",
       "      <td>1957</td>\n",
       "      <td>NaN</td>\n",
       "    </tr>\n",
       "    <tr>\n",
       "      <th>1</th>\n",
       "      <td>NaN</td>\n",
       "      <td>NaN</td>\n",
       "      <td>NaN</td>\n",
       "      <td>0.0</td>\n",
       "      <td>NaN</td>\n",
       "      <td>NaN</td>\n",
       "      <td>0.0</td>\n",
       "      <td>NaN</td>\n",
       "      <td>NaN</td>\n",
       "      <td>NaN</td>\n",
       "      <td>...</td>\n",
       "      <td>NaN</td>\n",
       "      <td>NaN</td>\n",
       "      <td>NaN</td>\n",
       "      <td>0.0</td>\n",
       "      <td>5.0</td>\n",
       "      <td>NaN</td>\n",
       "      <td>NaN</td>\n",
       "      <td>1.0</td>\n",
       "      <td>1957</td>\n",
       "      <td>NaN</td>\n",
       "    </tr>\n",
       "    <tr>\n",
       "      <th>2</th>\n",
       "      <td>NaN</td>\n",
       "      <td>NaN</td>\n",
       "      <td>NaN</td>\n",
       "      <td>0.0</td>\n",
       "      <td>NaN</td>\n",
       "      <td>NaN</td>\n",
       "      <td>2.0</td>\n",
       "      <td>NaN</td>\n",
       "      <td>NaN</td>\n",
       "      <td>NaN</td>\n",
       "      <td>...</td>\n",
       "      <td>NaN</td>\n",
       "      <td>NaN</td>\n",
       "      <td>NaN</td>\n",
       "      <td>2.0</td>\n",
       "      <td>3.0</td>\n",
       "      <td>NaN</td>\n",
       "      <td>NaN</td>\n",
       "      <td>0.0</td>\n",
       "      <td>1957</td>\n",
       "      <td>NaN</td>\n",
       "    </tr>\n",
       "    <tr>\n",
       "      <th>3</th>\n",
       "      <td>NaN</td>\n",
       "      <td>NaN</td>\n",
       "      <td>NaN</td>\n",
       "      <td>0.0</td>\n",
       "      <td>NaN</td>\n",
       "      <td>NaN</td>\n",
       "      <td>0.0</td>\n",
       "      <td>NaN</td>\n",
       "      <td>NaN</td>\n",
       "      <td>NaN</td>\n",
       "      <td>...</td>\n",
       "      <td>NaN</td>\n",
       "      <td>NaN</td>\n",
       "      <td>NaN</td>\n",
       "      <td>0.0</td>\n",
       "      <td>4.0</td>\n",
       "      <td>NaN</td>\n",
       "      <td>NaN</td>\n",
       "      <td>0.0</td>\n",
       "      <td>1957</td>\n",
       "      <td>NaN</td>\n",
       "    </tr>\n",
       "    <tr>\n",
       "      <th>4</th>\n",
       "      <td>NaN</td>\n",
       "      <td>NaN</td>\n",
       "      <td>NaN</td>\n",
       "      <td>0.0</td>\n",
       "      <td>NaN</td>\n",
       "      <td>NaN</td>\n",
       "      <td>2.0</td>\n",
       "      <td>NaN</td>\n",
       "      <td>NaN</td>\n",
       "      <td>NaN</td>\n",
       "      <td>...</td>\n",
       "      <td>NaN</td>\n",
       "      <td>NaN</td>\n",
       "      <td>NaN</td>\n",
       "      <td>1.0</td>\n",
       "      <td>1.0</td>\n",
       "      <td>NaN</td>\n",
       "      <td>NaN</td>\n",
       "      <td>0.0</td>\n",
       "      <td>1957</td>\n",
       "      <td>NaN</td>\n",
       "    </tr>\n",
       "  </tbody>\n",
       "</table>\n",
       "<p>5 rows × 54 columns</p>\n",
       "</div>"
      ],
      "text/plain": [
       "   Albania  Armenia  Australia  Austria  Azerbaijan  Belarus  Belgium  \\\n",
       "0      NaN      NaN        NaN      0.0         NaN      NaN      0.0   \n",
       "1      NaN      NaN        NaN      0.0         NaN      NaN      0.0   \n",
       "2      NaN      NaN        NaN      0.0         NaN      NaN      2.0   \n",
       "3      NaN      NaN        NaN      0.0         NaN      NaN      0.0   \n",
       "4      NaN      NaN        NaN      0.0         NaN      NaN      2.0   \n",
       "\n",
       "   Bosnia & Herzegovina  Bulgaria  Croatia     ...      Slovenia  Spain  \\\n",
       "0                   NaN       NaN      NaN     ...           NaN    NaN   \n",
       "1                   NaN       NaN      NaN     ...           NaN    NaN   \n",
       "2                   NaN       NaN      NaN     ...           NaN    NaN   \n",
       "3                   NaN       NaN      NaN     ...           NaN    NaN   \n",
       "4                   NaN       NaN      NaN     ...           NaN    NaN   \n",
       "\n",
       "   Sweden  Switzerland  The Netherlands  Turkey  Ukraine United Kingdom  Year  \\\n",
       "0     NaN          0.0              6.0     NaN      NaN            1.0  1957   \n",
       "1     NaN          0.0              5.0     NaN      NaN            1.0  1957   \n",
       "2     NaN          2.0              3.0     NaN      NaN            0.0  1957   \n",
       "3     NaN          0.0              4.0     NaN      NaN            0.0  1957   \n",
       "4     NaN          1.0              1.0     NaN      NaN            0.0  1957   \n",
       "\n",
       "   Yugoslavia  \n",
       "0         NaN  \n",
       "1         NaN  \n",
       "2         NaN  \n",
       "3         NaN  \n",
       "4         NaN  \n",
       "\n",
       "[5 rows x 54 columns]"
      ]
     },
     "execution_count": 5,
     "metadata": {},
     "output_type": "execute_result"
    }
   ],
   "source": [
    "esc_points = pd.DataFrame()\n",
    "for year in range(1957, 2018):\n",
    "    df = pd.read_csv(\"{}.csv\".format(year))\n",
    "    df['Year'] = year\n",
    "    df.rename(index=str, columns={\"Romainia\": \"Romania\"})\n",
    "    esc_points = esc_points.append(df, ignore_index=True, sort=True)\n",
    "esc_points.head()"
   ]
  },
  {
   "cell_type": "markdown",
   "metadata": {},
   "source": [
    "Move the columns 'Year' and 'From country' to the beginning"
   ]
  },
  {
   "cell_type": "code",
   "execution_count": 6,
   "metadata": {},
   "outputs": [
    {
     "data": {
      "text/html": [
       "<div>\n",
       "<style scoped>\n",
       "    .dataframe tbody tr th:only-of-type {\n",
       "        vertical-align: middle;\n",
       "    }\n",
       "\n",
       "    .dataframe tbody tr th {\n",
       "        vertical-align: top;\n",
       "    }\n",
       "\n",
       "    .dataframe thead th {\n",
       "        text-align: right;\n",
       "    }\n",
       "</style>\n",
       "<table border=\"1\" class=\"dataframe\">\n",
       "  <thead>\n",
       "    <tr style=\"text-align: right;\">\n",
       "      <th></th>\n",
       "      <th>Year</th>\n",
       "      <th>From country</th>\n",
       "      <th>Albania</th>\n",
       "      <th>Armenia</th>\n",
       "      <th>Australia</th>\n",
       "      <th>Austria</th>\n",
       "      <th>Azerbaijan</th>\n",
       "      <th>Belarus</th>\n",
       "      <th>Belgium</th>\n",
       "      <th>Bosnia &amp; Herzegovina</th>\n",
       "      <th>...</th>\n",
       "      <th>Slovakia</th>\n",
       "      <th>Slovenia</th>\n",
       "      <th>Spain</th>\n",
       "      <th>Sweden</th>\n",
       "      <th>Switzerland</th>\n",
       "      <th>The Netherlands</th>\n",
       "      <th>Turkey</th>\n",
       "      <th>Ukraine</th>\n",
       "      <th>United Kingdom</th>\n",
       "      <th>Yugoslavia</th>\n",
       "    </tr>\n",
       "  </thead>\n",
       "  <tbody>\n",
       "    <tr>\n",
       "      <th>0</th>\n",
       "      <td>1957</td>\n",
       "      <td>Austria</td>\n",
       "      <td>NaN</td>\n",
       "      <td>NaN</td>\n",
       "      <td>NaN</td>\n",
       "      <td>0.0</td>\n",
       "      <td>NaN</td>\n",
       "      <td>NaN</td>\n",
       "      <td>0.0</td>\n",
       "      <td>NaN</td>\n",
       "      <td>...</td>\n",
       "      <td>NaN</td>\n",
       "      <td>NaN</td>\n",
       "      <td>NaN</td>\n",
       "      <td>NaN</td>\n",
       "      <td>0.0</td>\n",
       "      <td>6.0</td>\n",
       "      <td>NaN</td>\n",
       "      <td>NaN</td>\n",
       "      <td>1.0</td>\n",
       "      <td>NaN</td>\n",
       "    </tr>\n",
       "    <tr>\n",
       "      <th>1</th>\n",
       "      <td>1957</td>\n",
       "      <td>Belgium</td>\n",
       "      <td>NaN</td>\n",
       "      <td>NaN</td>\n",
       "      <td>NaN</td>\n",
       "      <td>0.0</td>\n",
       "      <td>NaN</td>\n",
       "      <td>NaN</td>\n",
       "      <td>0.0</td>\n",
       "      <td>NaN</td>\n",
       "      <td>...</td>\n",
       "      <td>NaN</td>\n",
       "      <td>NaN</td>\n",
       "      <td>NaN</td>\n",
       "      <td>NaN</td>\n",
       "      <td>0.0</td>\n",
       "      <td>5.0</td>\n",
       "      <td>NaN</td>\n",
       "      <td>NaN</td>\n",
       "      <td>1.0</td>\n",
       "      <td>NaN</td>\n",
       "    </tr>\n",
       "    <tr>\n",
       "      <th>2</th>\n",
       "      <td>1957</td>\n",
       "      <td>Denmark</td>\n",
       "      <td>NaN</td>\n",
       "      <td>NaN</td>\n",
       "      <td>NaN</td>\n",
       "      <td>0.0</td>\n",
       "      <td>NaN</td>\n",
       "      <td>NaN</td>\n",
       "      <td>2.0</td>\n",
       "      <td>NaN</td>\n",
       "      <td>...</td>\n",
       "      <td>NaN</td>\n",
       "      <td>NaN</td>\n",
       "      <td>NaN</td>\n",
       "      <td>NaN</td>\n",
       "      <td>2.0</td>\n",
       "      <td>3.0</td>\n",
       "      <td>NaN</td>\n",
       "      <td>NaN</td>\n",
       "      <td>0.0</td>\n",
       "      <td>NaN</td>\n",
       "    </tr>\n",
       "    <tr>\n",
       "      <th>3</th>\n",
       "      <td>1957</td>\n",
       "      <td>France</td>\n",
       "      <td>NaN</td>\n",
       "      <td>NaN</td>\n",
       "      <td>NaN</td>\n",
       "      <td>0.0</td>\n",
       "      <td>NaN</td>\n",
       "      <td>NaN</td>\n",
       "      <td>0.0</td>\n",
       "      <td>NaN</td>\n",
       "      <td>...</td>\n",
       "      <td>NaN</td>\n",
       "      <td>NaN</td>\n",
       "      <td>NaN</td>\n",
       "      <td>NaN</td>\n",
       "      <td>0.0</td>\n",
       "      <td>4.0</td>\n",
       "      <td>NaN</td>\n",
       "      <td>NaN</td>\n",
       "      <td>0.0</td>\n",
       "      <td>NaN</td>\n",
       "    </tr>\n",
       "    <tr>\n",
       "      <th>4</th>\n",
       "      <td>1957</td>\n",
       "      <td>Germany</td>\n",
       "      <td>NaN</td>\n",
       "      <td>NaN</td>\n",
       "      <td>NaN</td>\n",
       "      <td>0.0</td>\n",
       "      <td>NaN</td>\n",
       "      <td>NaN</td>\n",
       "      <td>2.0</td>\n",
       "      <td>NaN</td>\n",
       "      <td>...</td>\n",
       "      <td>NaN</td>\n",
       "      <td>NaN</td>\n",
       "      <td>NaN</td>\n",
       "      <td>NaN</td>\n",
       "      <td>1.0</td>\n",
       "      <td>1.0</td>\n",
       "      <td>NaN</td>\n",
       "      <td>NaN</td>\n",
       "      <td>0.0</td>\n",
       "      <td>NaN</td>\n",
       "    </tr>\n",
       "  </tbody>\n",
       "</table>\n",
       "<p>5 rows × 54 columns</p>\n",
       "</div>"
      ],
      "text/plain": [
       "   Year From country  Albania  Armenia  Australia  Austria  Azerbaijan  \\\n",
       "0  1957      Austria      NaN      NaN        NaN      0.0         NaN   \n",
       "1  1957      Belgium      NaN      NaN        NaN      0.0         NaN   \n",
       "2  1957      Denmark      NaN      NaN        NaN      0.0         NaN   \n",
       "3  1957       France      NaN      NaN        NaN      0.0         NaN   \n",
       "4  1957      Germany      NaN      NaN        NaN      0.0         NaN   \n",
       "\n",
       "   Belarus  Belgium  Bosnia & Herzegovina     ...      Slovakia  Slovenia  \\\n",
       "0      NaN      0.0                   NaN     ...           NaN       NaN   \n",
       "1      NaN      0.0                   NaN     ...           NaN       NaN   \n",
       "2      NaN      2.0                   NaN     ...           NaN       NaN   \n",
       "3      NaN      0.0                   NaN     ...           NaN       NaN   \n",
       "4      NaN      2.0                   NaN     ...           NaN       NaN   \n",
       "\n",
       "   Spain  Sweden  Switzerland  The Netherlands  Turkey  Ukraine  \\\n",
       "0    NaN     NaN          0.0              6.0     NaN      NaN   \n",
       "1    NaN     NaN          0.0              5.0     NaN      NaN   \n",
       "2    NaN     NaN          2.0              3.0     NaN      NaN   \n",
       "3    NaN     NaN          0.0              4.0     NaN      NaN   \n",
       "4    NaN     NaN          1.0              1.0     NaN      NaN   \n",
       "\n",
       "   United Kingdom  Yugoslavia  \n",
       "0             1.0         NaN  \n",
       "1             1.0         NaN  \n",
       "2             0.0         NaN  \n",
       "3             0.0         NaN  \n",
       "4             0.0         NaN  \n",
       "\n",
       "[5 rows x 54 columns]"
      ]
     },
     "execution_count": 6,
     "metadata": {},
     "output_type": "execute_result"
    }
   ],
   "source": [
    "cols = esc_points.columns.tolist()\n",
    "cols.insert(0, cols.pop(cols.index('Year')))\n",
    "cols.insert(1, cols.pop(cols.index('From country')))\n",
    "esc_points = esc_points.reindex(columns=cols)\n",
    "esc_points.head()"
   ]
  },
  {
   "cell_type": "markdown",
   "metadata": {},
   "source": [
    "Save the table to a file"
   ]
  },
  {
   "cell_type": "code",
   "execution_count": 7,
   "metadata": {},
   "outputs": [],
   "source": [
    "esc_points.to_csv(\"ESC_points_1957-2017.csv\", sep=';', na_rep='NaN')"
   ]
  },
  {
   "cell_type": "markdown",
   "metadata": {},
   "source": [
    "## Competing countries through the years"
   ]
  },
  {
   "cell_type": "markdown",
   "metadata": {},
   "source": [
    "Visualize how the number of competing countries changed through the years"
   ]
  },
  {
   "cell_type": "code",
   "execution_count": 8,
   "metadata": {},
   "outputs": [
    {
     "data": {
      "text/html": [
       "<div>\n",
       "<style scoped>\n",
       "    .dataframe tbody tr th:only-of-type {\n",
       "        vertical-align: middle;\n",
       "    }\n",
       "\n",
       "    .dataframe tbody tr th {\n",
       "        vertical-align: top;\n",
       "    }\n",
       "\n",
       "    .dataframe thead th {\n",
       "        text-align: right;\n",
       "    }\n",
       "</style>\n",
       "<table border=\"1\" class=\"dataframe\">\n",
       "  <thead>\n",
       "    <tr style=\"text-align: right;\">\n",
       "      <th></th>\n",
       "      <th>From country</th>\n",
       "    </tr>\n",
       "    <tr>\n",
       "      <th>Year</th>\n",
       "      <th></th>\n",
       "    </tr>\n",
       "  </thead>\n",
       "  <tbody>\n",
       "    <tr>\n",
       "      <th>1957</th>\n",
       "      <td>10</td>\n",
       "    </tr>\n",
       "    <tr>\n",
       "      <th>1958</th>\n",
       "      <td>10</td>\n",
       "    </tr>\n",
       "    <tr>\n",
       "      <th>1959</th>\n",
       "      <td>11</td>\n",
       "    </tr>\n",
       "    <tr>\n",
       "      <th>1960</th>\n",
       "      <td>13</td>\n",
       "    </tr>\n",
       "    <tr>\n",
       "      <th>1961</th>\n",
       "      <td>16</td>\n",
       "    </tr>\n",
       "  </tbody>\n",
       "</table>\n",
       "</div>"
      ],
      "text/plain": [
       "      From country\n",
       "Year              \n",
       "1957            10\n",
       "1958            10\n",
       "1959            11\n",
       "1960            13\n",
       "1961            16"
      ]
     },
     "execution_count": 8,
     "metadata": {},
     "output_type": "execute_result"
    }
   ],
   "source": [
    "countries = esc_points[['From country', 'Year']].groupby('Year').count()\n",
    "countries.head()"
   ]
  },
  {
   "cell_type": "code",
   "execution_count": 9,
   "metadata": {},
   "outputs": [
    {
     "data": {
      "text/html": [
       "<div>\n",
       "<style scoped>\n",
       "    .dataframe tbody tr th:only-of-type {\n",
       "        vertical-align: middle;\n",
       "    }\n",
       "\n",
       "    .dataframe tbody tr th {\n",
       "        vertical-align: top;\n",
       "    }\n",
       "\n",
       "    .dataframe thead th {\n",
       "        text-align: right;\n",
       "    }\n",
       "</style>\n",
       "<table border=\"1\" class=\"dataframe\">\n",
       "  <thead>\n",
       "    <tr style=\"text-align: right;\">\n",
       "      <th></th>\n",
       "      <th>Year</th>\n",
       "      <th>Countries</th>\n",
       "    </tr>\n",
       "  </thead>\n",
       "  <tbody>\n",
       "    <tr>\n",
       "      <th>0</th>\n",
       "      <td>1957</td>\n",
       "      <td>10</td>\n",
       "    </tr>\n",
       "    <tr>\n",
       "      <th>1</th>\n",
       "      <td>1958</td>\n",
       "      <td>10</td>\n",
       "    </tr>\n",
       "    <tr>\n",
       "      <th>2</th>\n",
       "      <td>1959</td>\n",
       "      <td>11</td>\n",
       "    </tr>\n",
       "    <tr>\n",
       "      <th>3</th>\n",
       "      <td>1960</td>\n",
       "      <td>13</td>\n",
       "    </tr>\n",
       "    <tr>\n",
       "      <th>4</th>\n",
       "      <td>1961</td>\n",
       "      <td>16</td>\n",
       "    </tr>\n",
       "  </tbody>\n",
       "</table>\n",
       "</div>"
      ],
      "text/plain": [
       "   Year  Countries\n",
       "0  1957         10\n",
       "1  1958         10\n",
       "2  1959         11\n",
       "3  1960         13\n",
       "4  1961         16"
      ]
     },
     "execution_count": 9,
     "metadata": {},
     "output_type": "execute_result"
    }
   ],
   "source": [
    "countries.reset_index(inplace=True)\n",
    "countries.columns = ['Year', 'Countries']\n",
    "countries.head()"
   ]
  },
  {
   "cell_type": "markdown",
   "metadata": {},
   "source": [
    "The first year (1956) of ESC is missing, add it manually"
   ]
  },
  {
   "cell_type": "code",
   "execution_count": 10,
   "metadata": {},
   "outputs": [
    {
     "data": {
      "text/html": [
       "<div>\n",
       "<style scoped>\n",
       "    .dataframe tbody tr th:only-of-type {\n",
       "        vertical-align: middle;\n",
       "    }\n",
       "\n",
       "    .dataframe tbody tr th {\n",
       "        vertical-align: top;\n",
       "    }\n",
       "\n",
       "    .dataframe thead th {\n",
       "        text-align: right;\n",
       "    }\n",
       "</style>\n",
       "<table border=\"1\" class=\"dataframe\">\n",
       "  <thead>\n",
       "    <tr style=\"text-align: right;\">\n",
       "      <th></th>\n",
       "      <th>Year</th>\n",
       "      <th>Countries</th>\n",
       "    </tr>\n",
       "  </thead>\n",
       "  <tbody>\n",
       "    <tr>\n",
       "      <th>0</th>\n",
       "      <td>1956</td>\n",
       "      <td>7</td>\n",
       "    </tr>\n",
       "    <tr>\n",
       "      <th>1</th>\n",
       "      <td>1957</td>\n",
       "      <td>10</td>\n",
       "    </tr>\n",
       "    <tr>\n",
       "      <th>2</th>\n",
       "      <td>1958</td>\n",
       "      <td>10</td>\n",
       "    </tr>\n",
       "    <tr>\n",
       "      <th>3</th>\n",
       "      <td>1959</td>\n",
       "      <td>11</td>\n",
       "    </tr>\n",
       "    <tr>\n",
       "      <th>4</th>\n",
       "      <td>1960</td>\n",
       "      <td>13</td>\n",
       "    </tr>\n",
       "  </tbody>\n",
       "</table>\n",
       "</div>"
      ],
      "text/plain": [
       "   Year  Countries\n",
       "0  1956          7\n",
       "1  1957         10\n",
       "2  1958         10\n",
       "3  1959         11\n",
       "4  1960         13"
      ]
     },
     "execution_count": 10,
     "metadata": {},
     "output_type": "execute_result"
    }
   ],
   "source": [
    "countries.loc[-1] = [1956, 7]          # add a row\n",
    "countries.index = countries.index + 1  # shift the index\n",
    "countries = countries.sort_index()     # sort by index\n",
    "countries.head()\n",
    "# Note that if you run this cell more than once, you will get multiple rows with year 1956!"
   ]
  },
  {
   "cell_type": "markdown",
   "metadata": {},
   "source": [
    "Save the table to a file"
   ]
  },
  {
   "cell_type": "code",
   "execution_count": 11,
   "metadata": {},
   "outputs": [],
   "source": [
    "esc_points.to_csv(\"ESC_countries_1956-2017.csv\", sep=';')"
   ]
  },
  {
   "cell_type": "markdown",
   "metadata": {},
   "source": [
    "### Visualize the number of countries"
   ]
  },
  {
   "cell_type": "code",
   "execution_count": 12,
   "metadata": {},
   "outputs": [
    {
     "data": {
      "image/png": "[encoded data removed]",
      "text/plain": [
       "<Figure size 432x288 with 1 Axes>"
      ]
     },
     "metadata": {
      "needs_background": "light"
     },
     "output_type": "display_data"
    }
   ],
   "source": [
    "ax = countries.plot.line(x='Year', y='Countries')\n",
    "plt.show()"
   ]
  },
  {
   "cell_type": "markdown",
   "metadata": {},
   "source": [
    "Refine the visualization:\n",
    "- Create a bigger plot (with larger fonts)\n",
    "- Choose a brighter color\n",
    "- Remove the legend\n",
    "- Adjust the y axis (to start at 0)\n",
    "- Add a title"
   ]
  },
  {
   "cell_type": "code",
   "execution_count": 15,
   "metadata": {},
   "outputs": [],
   "source": [
    "categorical_map = plt.get_cmap('Set1') # Choose the red color from the 'Set1' categorical map\n",
    "color = to_hex(categorical_map.colors[0])"
   ]
  },
  {
   "cell_type": "code",
   "execution_count": 16,
   "metadata": {},
   "outputs": [
    {
     "data": {
      "image/png": "[encoded data removed]",
      "text/plain": [
       "<Figure size 720x576 with 1 Axes>"
      ]
     },
     "metadata": {
      "needs_background": "light"
     },
     "output_type": "display_data"
    }
   ],
   "source": [
    "plt.rcParams.update({'font.size': 12})\n",
    "ax = countries.plot.line(x='Year', y='Countries', figsize=(10,8), legend=None, c=color)\n",
    "ax.set_ylim([0, 45])\n",
    "ax.set_title('Number of countries competing in the Eurovision Song Contest')\n",
    "plt.show()"
   ]
  },
  {
   "cell_type": "markdown",
   "metadata": {},
   "source": [
    "Choose interesting years to be highlighted"
   ]
  },
  {
   "cell_type": "code",
   "execution_count": 17,
   "metadata": {},
   "outputs": [
    {
     "data": {
      "text/html": [
       "<div>\n",
       "<style scoped>\n",
       "    .dataframe tbody tr th:only-of-type {\n",
       "        vertical-align: middle;\n",
       "    }\n",
       "\n",
       "    .dataframe tbody tr th {\n",
       "        vertical-align: top;\n",
       "    }\n",
       "\n",
       "    .dataframe thead th {\n",
       "        text-align: right;\n",
       "    }\n",
       "</style>\n",
       "<table border=\"1\" class=\"dataframe\">\n",
       "  <thead>\n",
       "    <tr style=\"text-align: right;\">\n",
       "      <th></th>\n",
       "      <th>Year</th>\n",
       "      <th>Countries</th>\n",
       "    </tr>\n",
       "  </thead>\n",
       "  <tbody>\n",
       "    <tr>\n",
       "      <th>0</th>\n",
       "      <td>1956</td>\n",
       "      <td>7</td>\n",
       "    </tr>\n",
       "    <tr>\n",
       "      <th>14</th>\n",
       "      <td>1970</td>\n",
       "      <td>12</td>\n",
       "    </tr>\n",
       "    <tr>\n",
       "      <th>37</th>\n",
       "      <td>1993</td>\n",
       "      <td>25</td>\n",
       "    </tr>\n",
       "    <tr>\n",
       "      <th>48</th>\n",
       "      <td>2004</td>\n",
       "      <td>36</td>\n",
       "    </tr>\n",
       "  </tbody>\n",
       "</table>\n",
       "</div>"
      ],
      "text/plain": [
       "    Year  Countries\n",
       "0   1956          7\n",
       "14  1970         12\n",
       "37  1993         25\n",
       "48  2004         36"
      ]
     },
     "execution_count": 17,
     "metadata": {},
     "output_type": "execute_result"
    }
   ],
   "source": [
    "key_years = countries.loc[countries['Year'].isin([1956, 1970, 1993, 2004])]\n",
    "key_years"
   ]
  },
  {
   "cell_type": "code",
   "execution_count": 18,
   "metadata": {},
   "outputs": [
    {
     "data": {
      "text/html": [
       "<div>\n",
       "<style scoped>\n",
       "    .dataframe tbody tr th:only-of-type {\n",
       "        vertical-align: middle;\n",
       "    }\n",
       "\n",
       "    .dataframe tbody tr th {\n",
       "        vertical-align: top;\n",
       "    }\n",
       "\n",
       "    .dataframe thead th {\n",
       "        text-align: right;\n",
       "    }\n",
       "</style>\n",
       "<table border=\"1\" class=\"dataframe\">\n",
       "  <thead>\n",
       "    <tr style=\"text-align: right;\">\n",
       "      <th></th>\n",
       "      <th>Year</th>\n",
       "      <th>Countries</th>\n",
       "      <th>Paragraph</th>\n",
       "      <th>Text</th>\n",
       "    </tr>\n",
       "  </thead>\n",
       "  <tbody>\n",
       "    <tr>\n",
       "      <th>0</th>\n",
       "      <td>1956</td>\n",
       "      <td>7</td>\n",
       "      <td>Only seven countries participated\\nin 1956 (ea...</td>\n",
       "      <td>Only seven countries participated in 1956 (eac...</td>\n",
       "    </tr>\n",
       "    <tr>\n",
       "      <th>14</th>\n",
       "      <td>1970</td>\n",
       "      <td>12</td>\n",
       "      <td>Four countries did not participate\\nin 1970 as...</td>\n",
       "      <td>Four countries did not participate in 1970 as ...</td>\n",
       "    </tr>\n",
       "    <tr>\n",
       "      <th>37</th>\n",
       "      <td>1993</td>\n",
       "      <td>25</td>\n",
       "      <td>Qualifications were introduced\\nin 1993 to lim...</td>\n",
       "      <td>Qualifications were introduced in 1993 to limi...</td>\n",
       "    </tr>\n",
       "    <tr>\n",
       "      <th>48</th>\n",
       "      <td>2004</td>\n",
       "      <td>36</td>\n",
       "      <td>The introduction of a semi-final\\nin 2004 enab...</td>\n",
       "      <td>The introduction of a semi-final in 2004 enabl...</td>\n",
       "    </tr>\n",
       "  </tbody>\n",
       "</table>\n",
       "</div>"
      ],
      "text/plain": [
       "    Year  Countries                                          Paragraph  \\\n",
       "0   1956          7  Only seven countries participated\\nin 1956 (ea...   \n",
       "14  1970         12  Four countries did not participate\\nin 1970 as...   \n",
       "37  1993         25  Qualifications were introduced\\nin 1993 to lim...   \n",
       "48  2004         36  The introduction of a semi-final\\nin 2004 enab...   \n",
       "\n",
       "                                                 Text  \n",
       "0   Only seven countries participated in 1956 (eac...  \n",
       "14  Four countries did not participate in 1970 as ...  \n",
       "37  Qualifications were introduced in 1993 to limi...  \n",
       "48  The introduction of a semi-final in 2004 enabl...  "
      ]
     },
     "execution_count": 18,
     "metadata": {},
     "output_type": "execute_result"
    }
   ],
   "source": [
    "text = ['Only seven countries participated in 1956 (each with two songs,which never happened again)', \n",
    "        'Four countries did not participate in 1970 as a protest against rules allowing multiple winners in 1969', \n",
    "        'Qualifications were introduced in 1993 to limit the number of competing countries to 25', \n",
    "        'The introduction of a semi-final in 2004 enabled more countries to take part in the contest'\n",
    "       ]\n",
    "paragraph = ['Only seven countries participated\\nin 1956 (each with two songs,\\nwhich never happened again)',\n",
    "             'Four countries did not participate\\nin 1970 as a protest against rules\\nallowing multiple winners in 1969',\n",
    "             'Qualifications were introduced\\nin 1993 to limit the number of\\ncompeting countries to 25',\n",
    "             'The introduction of a semi-final\\nin 2004 enabled more countries\\nto take part in the contest'\n",
    "            ]\n",
    "key_years = key_years.assign(Text=text, Paragraph=paragraph)\n",
    "key_years"
   ]
  },
  {
   "cell_type": "markdown",
   "metadata": {},
   "source": [
    "Add annotations and data source (and create a function so that is easy to invoke)"
   ]
  },
  {
   "cell_type": "code",
   "execution_count": 19,
   "metadata": {},
   "outputs": [],
   "source": [
    "title = 'Number of countries competing in the Eurovision Song Contest'\n",
    "data_source = 'Data source: https://github.com/mantzaris/eurovision'"
   ]
  },
  {
   "cell_type": "code",
   "execution_count": 20,
   "metadata": {},
   "outputs": [],
   "source": [
    "def plot_countries():\n",
    "    ax = countries.plot.line(x='Year', y='Countries', figsize=(10,8), legend=None, c=color)\n",
    "    key_years.plot.scatter(ax=ax, x='Year', y='Countries', s=50, legend=None, c=color)\n",
    "    ax.set_ylim([0, 45])\n",
    "    ax.set_title(title)\n",
    "    ann_x = key_years['Year'].tolist()\n",
    "    ann_y = key_years['Countries'].tolist()\n",
    "    ann_t = key_years['Paragraph'].tolist()\n",
    "    ax.annotate(ann_t[0], \n",
    "                xy=(ann_x[0] + 0.5, ann_y[0]), \n",
    "                xytext=(30, 7), textcoords='offset points', \n",
    "                ha='left', va='top', \n",
    "                arrowprops=dict(color='k', arrowstyle='-|>', connectionstyle='arc,angleA=90,angleB=0,armB=40'))\n",
    "    ax.annotate(ann_t[1], \n",
    "                xy=(ann_x[1] + 0.5, ann_y[1]), \n",
    "                xytext=(30, 22), textcoords='offset points', \n",
    "                ha='left', va='top', \n",
    "                arrowprops=dict(color='k', arrowstyle='-|>', connectionstyle='arc,angleA=90,angleB=0,armB=40'))\n",
    "    ax.annotate(ann_t[2], \n",
    "                xy=(ann_x[2] - 0.5, ann_y[2]), \n",
    "                xytext=(-30, 22), textcoords='offset points', \n",
    "                ha='right', va='top', \n",
    "                arrowprops=dict(color='k', arrowstyle='-|>', connectionstyle='arc,angleA=0,angleB=180,armB=50'))\n",
    "    ax.annotate(ann_t[3], \n",
    "                xy=(ann_x[3] - 0.5, ann_y[3]), \n",
    "                xytext=(-30, 22), textcoords='offset points', \n",
    "                ha='right', va='top', \n",
    "                arrowprops=dict(color='k', arrowstyle='-|>', connectionstyle='arc,angleA=0,angleB=180,armB=50'))\n",
    "    ax.annotate(data_source,\n",
    "                color='dimgray',\n",
    "                xy=(0, 0), \n",
    "                xycoords='figure fraction',\n",
    "                xytext=(30, 0),  \n",
    "                textcoords='offset points',\n",
    "                ha='left', va='bottom')\n",
    "    plt.show()"
   ]
  },
  {
   "cell_type": "code",
   "execution_count": 21,
   "metadata": {},
   "outputs": [
    {
     "data": {
      "image/png": "[encoded data removed]",
      "text/plain": [
       "<Figure size 720x576 with 1 Axes>"
      ]
     },
     "metadata": {
      "needs_background": "light"
     },
     "output_type": "display_data"
    }
   ],
   "source": [
    "plot_countries()"
   ]
  },
  {
   "cell_type": "markdown",
   "metadata": {},
   "source": [
    "Change style and try again"
   ]
  },
  {
   "cell_type": "code",
   "execution_count": 22,
   "metadata": {},
   "outputs": [],
   "source": [
    "import warnings\n",
    "import matplotlib.cbook\n",
    "\n",
    "def change_style(style_name='default'):\n",
    "    warnings.filterwarnings(\"ignore\",category=matplotlib.cbook.mplDeprecation) # To suppres deprecation warnings\n",
    "    plt.rcParams.update(plt.rcParamsDefault) # To reset the style\n",
    "    # To restart the inline backend \n",
    "    %matplotlib inline                       \n",
    "    plt.style.use(style_name)"
   ]
  },
  {
   "cell_type": "code",
   "execution_count": 23,
   "metadata": {},
   "outputs": [
    {
     "data": {
      "image/png": "[encoded data removed]",
      "text/plain": [
       "<Figure size 720x576 with 1 Axes>"
      ]
     },
     "metadata": {},
     "output_type": "display_data"
    }
   ],
   "source": [
    "change_style('ggplot')\n",
    "plot_countries()"
   ]
  },
  {
   "cell_type": "code",
   "execution_count": 24,
   "metadata": {},
   "outputs": [
    {
     "data": {
      "image/png": "[encoded data removed]",
      "text/plain": [
       "<Figure size 720x576 with 1 Axes>"
      ]
     },
     "metadata": {},
     "output_type": "display_data"
    }
   ],
   "source": [
    "change_style('seaborn')\n",
    "plot_countries()"
   ]
  },
  {
   "cell_type": "code",
   "execution_count": 25,
   "metadata": {},
   "outputs": [
    {
     "data": {
      "image/png": "[encoded data removed]",
      "text/plain": [
       "<Figure size 720x576 with 1 Axes>"
      ]
     },
     "metadata": {},
     "output_type": "display_data"
    }
   ],
   "source": [
    "change_style('fivethirtyeight')\n",
    "plot_countries()"
   ]
  },
  {
   "cell_type": "markdown",
   "metadata": {},
   "source": [
    "### Add interactivity"
   ]
  },
  {
   "cell_type": "markdown",
   "metadata": {},
   "source": [
    "#### Plotly"
   ]
  },
  {
   "cell_type": "code",
   "execution_count": 28,
   "metadata": {},
   "outputs": [
    {
     "data": {
      "text/html": [
       "<script type=\"text/javascript\">window.PlotlyConfig = {MathJaxConfig: 'local'};</script><script type=\"text/javascript\">if (window.MathJax) {MathJax.Hub.Config({SVG: {font: \"STIX-Web\"}});}</script><script>requirejs.config({paths: { 'plotly': ['https://cdn.plot.ly/plotly-latest.min']},});if(!window._Plotly) {require(['plotly'],function(plotly) {window._Plotly=plotly;});}</script>"
      ],
      "text/vnd.plotly.v1+html": [
       "<script type=\"text/javascript\">window.PlotlyConfig = {MathJaxConfig: 'local'};</script><script type=\"text/javascript\">if (window.MathJax) {MathJax.Hub.Config({SVG: {font: \"STIX-Web\"}});}</script><script>requirejs.config({paths: { 'plotly': ['https://cdn.plot.ly/plotly-latest.min']},});if(!window._Plotly) {require(['plotly'],function(plotly) {window._Plotly=plotly;});}</script>"
      ]
     },
     "metadata": {},
     "output_type": "display_data"
    }
   ],
   "source": [
    "from plotly.offline import init_notebook_mode, plot, iplot\n",
    "import plotly.graph_objs as go\n",
    "init_notebook_mode(connected=True)"
   ]
  },
  {
   "cell_type": "markdown",
   "metadata": {},
   "source": [
    "A useful Plotly cheatsheet: https://images.plot.ly/plotly-documentation/images/python_cheat_sheet.pdf"
   ]
  },
  {
   "cell_type": "code",
   "execution_count": 29,
   "metadata": {},
   "outputs": [
    {
     "data": {
      "application/vnd.plotly.v1+json": {
       "data": [
        {
         "type": "scatter",
         "uid": "9897a140-63d9-4a5c-9ebc-a02e83858148",
         "x": [
          1956,
          1957,
          1958,
          1959,
          1960,
          1961,
          1962,
          1963,
          1964,
          1965,
          1966,
          1967,
          1968,
          1969,
          1970,
          1971,
          1972,
          1973,
          1974,
          1975,
          1976,
          1977,
          1978,
          1979,
          1980,
          1981,
          1982,
          1983,
          1984,
          1985,
          1986,
          1987,
          1988,
          1989,
          1990,
          1991,
          1992,
          1993,
          1994,
          1995,
          1996,
          1997,
          1998,
          1999,
          2000,
          2001,
          2002,
          2003,
          2004,
          2005,
          2006,
          2007,
          2008,
          2009,
          2010,
          2011,
          2012,
          2013,
          2014,
          2015,
          2016,
          2017
         ],
         "y": [
          7,
          10,
          10,
          11,
          13,
          16,
          16,
          16,
          16,
          18,
          18,
          17,
          17,
          16,
          12,
          18,
          18,
          17,
          17,
          19,
          18,
          18,
          20,
          19,
          19,
          20,
          18,
          20,
          19,
          19,
          20,
          22,
          21,
          22,
          22,
          22,
          23,
          25,
          25,
          23,
          23,
          25,
          25,
          23,
          24,
          23,
          24,
          26,
          36,
          39,
          38,
          42,
          43,
          42,
          39,
          43,
          42,
          39,
          37,
          40,
          42,
          42
         ]
        }
       ],
       "layout": {}
      },
      "text/html": [
       "<div id=\"5837b615-527c-4271-a3d5-26e69f002379\" style=\"height: 525px; width: 100%;\" class=\"plotly-graph-div\"></div><script type=\"text/javascript\">require([\"plotly\"], function(Plotly) { window.PLOTLYENV=window.PLOTLYENV || {};window.PLOTLYENV.BASE_URL=\"https://plot.ly\";Plotly.newPlot(\"5837b615-527c-4271-a3d5-26e69f002379\", [{\"y\": [7, 10, 10, 11, 13, 16, 16, 16, 16, 18, 18, 17, 17, 16, 12, 18, 18, 17, 17, 19, 18, 18, 20, 19, 19, 20, 18, 20, 19, 19, 20, 22, 21, 22, 22, 22, 23, 25, 25, 23, 23, 25, 25, 23, 24, 23, 24, 26, 36, 39, 38, 42, 43, 42, 39, 43, 42, 39, 37, 40, 42, 42], \"x\": [1956, 1957, 1958, 1959, 1960, 1961, 1962, 1963, 1964, 1965, 1966, 1967, 1968, 1969, 1970, 1971, 1972, 1973, 1974, 1975, 1976, 1977, 1978, 1979, 1980, 1981, 1982, 1983, 1984, 1985, 1986, 1987, 1988, 1989, 1990, 1991, 1992, 1993, 1994, 1995, 1996, 1997, 1998, 1999, 2000, 2001, 2002, 2003, 2004, 2005, 2006, 2007, 2008, 2009, 2010, 2011, 2012, 2013, 2014, 2015, 2016, 2017], \"type\": \"scatter\", \"uid\": \"4232ea24-60e7-4c91-a5da-ee210a0afca3\"}], {}, {\"linkText\": \"Export to plot.ly\", \"showLink\": true})});</script><script type=\"text/javascript\">window.addEventListener(\"resize\", function(){window._Plotly.Plots.resize(document.getElementById(\"5837b615-527c-4271-a3d5-26e69f002379\"));});</script>"
      ],
      "text/vnd.plotly.v1+html": [
       "<div id=\"5837b615-527c-4271-a3d5-26e69f002379\" style=\"height: 525px; width: 100%;\" class=\"plotly-graph-div\"></div><script type=\"text/javascript\">require([\"plotly\"], function(Plotly) { window.PLOTLYENV=window.PLOTLYENV || {};window.PLOTLYENV.BASE_URL=\"https://plot.ly\";Plotly.newPlot(\"5837b615-527c-4271-a3d5-26e69f002379\", [{\"y\": [7, 10, 10, 11, 13, 16, 16, 16, 16, 18, 18, 17, 17, 16, 12, 18, 18, 17, 17, 19, 18, 18, 20, 19, 19, 20, 18, 20, 19, 19, 20, 22, 21, 22, 22, 22, 23, 25, 25, 23, 23, 25, 25, 23, 24, 23, 24, 26, 36, 39, 38, 42, 43, 42, 39, 43, 42, 39, 37, 40, 42, 42], \"x\": [1956, 1957, 1958, 1959, 1960, 1961, 1962, 1963, 1964, 1965, 1966, 1967, 1968, 1969, 1970, 1971, 1972, 1973, 1974, 1975, 1976, 1977, 1978, 1979, 1980, 1981, 1982, 1983, 1984, 1985, 1986, 1987, 1988, 1989, 1990, 1991, 1992, 1993, 1994, 1995, 1996, 1997, 1998, 1999, 2000, 2001, 2002, 2003, 2004, 2005, 2006, 2007, 2008, 2009, 2010, 2011, 2012, 2013, 2014, 2015, 2016, 2017], \"type\": \"scatter\", \"uid\": \"4232ea24-60e7-4c91-a5da-ee210a0afca3\"}], {}, {\"linkText\": \"Export to plot.ly\", \"showLink\": true})});</script><script type=\"text/javascript\">window.addEventListener(\"resize\", function(){window._Plotly.Plots.resize(document.getElementById(\"5837b615-527c-4271-a3d5-26e69f002379\"));});</script>"
      ]
     },
     "metadata": {},
     "output_type": "display_data"
    }
   ],
   "source": [
    "data = [\n",
    "    go.Scatter(\n",
    "        x=countries['Year'], \n",
    "        y=countries['Countries']\n",
    "    )\n",
    "]\n",
    "iplot(data)"
   ]
  },
  {
   "cell_type": "markdown",
   "metadata": {},
   "source": [
    "Refine the visualization:\n",
    "- Choose a brighter color\n",
    "- Label the axes and adjust their ranges\n",
    "- Add a title"
   ]
  },
  {
   "cell_type": "code",
   "execution_count": 30,
   "metadata": {},
   "outputs": [
    {
     "data": {
      "application/vnd.plotly.v1+json": {
       "data": [
        {
         "line": {
          "color": "#e41a1c"
         },
         "type": "scatter",
         "uid": "00cb76d1-a5a4-407c-8d3a-e808b852a5fa",
         "x": [
          1956,
          1957,
          1958,
          1959,
          1960,
          1961,
          1962,
          1963,
          1964,
          1965,
          1966,
          1967,
          1968,
          1969,
          1970,
          1971,
          1972,
          1973,
          1974,
          1975,
          1976,
          1977,
          1978,
          1979,
          1980,
          1981,
          1982,
          1983,
          1984,
          1985,
          1986,
          1987,
          1988,
          1989,
          1990,
          1991,
          1992,
          1993,
          1994,
          1995,
          1996,
          1997,
          1998,
          1999,
          2000,
          2001,
          2002,
          2003,
          2004,
          2005,
          2006,
          2007,
          2008,
          2009,
          2010,
          2011,
          2012,
          2013,
          2014,
          2015,
          2016,
          2017
         ],
         "y": [
          7,
          10,
          10,
          11,
          13,
          16,
          16,
          16,
          16,
          18,
          18,
          17,
          17,
          16,
          12,
          18,
          18,
          17,
          17,
          19,
          18,
          18,
          20,
          19,
          19,
          20,
          18,
          20,
          19,
          19,
          20,
          22,
          21,
          22,
          22,
          22,
          23,
          25,
          25,
          23,
          23,
          25,
          25,
          23,
          24,
          23,
          24,
          26,
          36,
          39,
          38,
          42,
          43,
          42,
          39,
          43,
          42,
          39,
          37,
          40,
          42,
          42
         ]
        }
       ],
       "layout": {
        "title": "Number of countries competing in the Eurovision Song Contest",
        "xaxis": {
         "range": [
          1955,
          2020
         ],
         "title": "Year"
        },
        "yaxis": {
         "range": [
          0,
          45
         ],
         "title": "Countries"
        }
       }
      },
      "text/html": [
       "<div id=\"2b409dbb-0203-4ec8-9d84-5e8244e02d13\" style=\"height: 525px; width: 100%;\" class=\"plotly-graph-div\"></div><script type=\"text/javascript\">require([\"plotly\"], function(Plotly) { window.PLOTLYENV=window.PLOTLYENV || {};window.PLOTLYENV.BASE_URL=\"https://plot.ly\";Plotly.newPlot(\"2b409dbb-0203-4ec8-9d84-5e8244e02d13\", [{\"y\": [7, 10, 10, 11, 13, 16, 16, 16, 16, 18, 18, 17, 17, 16, 12, 18, 18, 17, 17, 19, 18, 18, 20, 19, 19, 20, 18, 20, 19, 19, 20, 22, 21, 22, 22, 22, 23, 25, 25, 23, 23, 25, 25, 23, 24, 23, 24, 26, 36, 39, 38, 42, 43, 42, 39, 43, 42, 39, 37, 40, 42, 42], \"x\": [1956, 1957, 1958, 1959, 1960, 1961, 1962, 1963, 1964, 1965, 1966, 1967, 1968, 1969, 1970, 1971, 1972, 1973, 1974, 1975, 1976, 1977, 1978, 1979, 1980, 1981, 1982, 1983, 1984, 1985, 1986, 1987, 1988, 1989, 1990, 1991, 1992, 1993, 1994, 1995, 1996, 1997, 1998, 1999, 2000, 2001, 2002, 2003, 2004, 2005, 2006, 2007, 2008, 2009, 2010, 2011, 2012, 2013, 2014, 2015, 2016, 2017], \"type\": \"scatter\", \"uid\": \"8d641cd7-d5ae-4f0a-9dc2-29b5b5bb5767\", \"line\": {\"color\": \"#e41a1c\"}}], {\"xaxis\": {\"range\": [1955, 2020], \"title\": \"Year\"}, \"yaxis\": {\"range\": [0, 45], \"title\": \"Countries\"}, \"title\": \"Number of countries competing in the Eurovision Song Contest\"}, {\"linkText\": \"Export to plot.ly\", \"showLink\": true})});</script><script type=\"text/javascript\">window.addEventListener(\"resize\", function(){window._Plotly.Plots.resize(document.getElementById(\"2b409dbb-0203-4ec8-9d84-5e8244e02d13\"));});</script>"
      ],
      "text/vnd.plotly.v1+html": [
       "<div id=\"2b409dbb-0203-4ec8-9d84-5e8244e02d13\" style=\"height: 525px; width: 100%;\" class=\"plotly-graph-div\"></div><script type=\"text/javascript\">require([\"plotly\"], function(Plotly) { window.PLOTLYENV=window.PLOTLYENV || {};window.PLOTLYENV.BASE_URL=\"https://plot.ly\";Plotly.newPlot(\"2b409dbb-0203-4ec8-9d84-5e8244e02d13\", [{\"y\": [7, 10, 10, 11, 13, 16, 16, 16, 16, 18, 18, 17, 17, 16, 12, 18, 18, 17, 17, 19, 18, 18, 20, 19, 19, 20, 18, 20, 19, 19, 20, 22, 21, 22, 22, 22, 23, 25, 25, 23, 23, 25, 25, 23, 24, 23, 24, 26, 36, 39, 38, 42, 43, 42, 39, 43, 42, 39, 37, 40, 42, 42], \"x\": [1956, 1957, 1958, 1959, 1960, 1961, 1962, 1963, 1964, 1965, 1966, 1967, 1968, 1969, 1970, 1971, 1972, 1973, 1974, 1975, 1976, 1977, 1978, 1979, 1980, 1981, 1982, 1983, 1984, 1985, 1986, 1987, 1988, 1989, 1990, 1991, 1992, 1993, 1994, 1995, 1996, 1997, 1998, 1999, 2000, 2001, 2002, 2003, 2004, 2005, 2006, 2007, 2008, 2009, 2010, 2011, 2012, 2013, 2014, 2015, 2016, 2017], \"type\": \"scatter\", \"uid\": \"8d641cd7-d5ae-4f0a-9dc2-29b5b5bb5767\", \"line\": {\"color\": \"#e41a1c\"}}], {\"xaxis\": {\"range\": [1955, 2020], \"title\": \"Year\"}, \"yaxis\": {\"range\": [0, 45], \"title\": \"Countries\"}, \"title\": \"Number of countries competing in the Eurovision Song Contest\"}, {\"linkText\": \"Export to plot.ly\", \"showLink\": true})});</script><script type=\"text/javascript\">window.addEventListener(\"resize\", function(){window._Plotly.Plots.resize(document.getElementById(\"2b409dbb-0203-4ec8-9d84-5e8244e02d13\"));});</script>"
      ]
     },
     "metadata": {},
     "output_type": "display_data"
    }
   ],
   "source": [
    "data = [\n",
    "    go.Scatter(\n",
    "        x=countries['Year'], \n",
    "        y=countries['Countries'], \n",
    "        line=dict(color=color)\n",
    "    )\n",
    "]\n",
    "layout = dict(\n",
    "    title=title,\n",
    "    xaxis=dict(title='Year', range=[1955, 2020]),\n",
    "    yaxis=dict(title='Countries', range=[0, 45])\n",
    ")\n",
    "iplot(dict(data=data, layout=layout))"
   ]
  },
  {
   "cell_type": "markdown",
   "metadata": {},
   "source": [
    "Add annotations"
   ]
  },
  {
   "cell_type": "code",
   "execution_count": 31,
   "metadata": {},
   "outputs": [
    {
     "data": {
      "application/vnd.plotly.v1+json": {
       "data": [
        {
         "hoverinfo": "x+y",
         "line": {
          "color": "#e41a1c"
         },
         "type": "scatter",
         "uid": "73229d94-66f1-4152-ba32-b5851999ec3f",
         "x": [
          1956,
          1957,
          1958,
          1959,
          1960,
          1961,
          1962,
          1963,
          1964,
          1965,
          1966,
          1967,
          1968,
          1969,
          1970,
          1971,
          1972,
          1973,
          1974,
          1975,
          1976,
          1977,
          1978,
          1979,
          1980,
          1981,
          1982,
          1983,
          1984,
          1985,
          1986,
          1987,
          1988,
          1989,
          1990,
          1991,
          1992,
          1993,
          1994,
          1995,
          1996,
          1997,
          1998,
          1999,
          2000,
          2001,
          2002,
          2003,
          2004,
          2005,
          2006,
          2007,
          2008,
          2009,
          2010,
          2011,
          2012,
          2013,
          2014,
          2015,
          2016,
          2017
         ],
         "y": [
          7,
          10,
          10,
          11,
          13,
          16,
          16,
          16,
          16,
          18,
          18,
          17,
          17,
          16,
          12,
          18,
          18,
          17,
          17,
          19,
          18,
          18,
          20,
          19,
          19,
          20,
          18,
          20,
          19,
          19,
          20,
          22,
          21,
          22,
          22,
          22,
          23,
          25,
          25,
          23,
          23,
          25,
          25,
          23,
          24,
          23,
          24,
          26,
          36,
          39,
          38,
          42,
          43,
          42,
          39,
          43,
          42,
          39,
          37,
          40,
          42,
          42
         ]
        },
        {
         "hoverinfo": "text",
         "hovertext": [
          "Only seven countries participated in 1956 (each with two songs,which never happened again)",
          "Four countries did not participate in 1970 as a protest against rules allowing multiple winners in 1969",
          "Qualifications were introduced in 1993 to limit the number of competing countries to 25",
          "The introduction of a semi-final in 2004 enabled more countries to take part in the contest"
         ],
         "marker": {
          "color": "#e41a1c",
          "size": 8
         },
         "mode": "markers",
         "type": "scatter",
         "uid": "01c996a2-ef2a-420d-88f2-319aec73fb99",
         "x": [
          1956,
          1970,
          1993,
          2004
         ],
         "y": [
          7,
          12,
          25,
          36
         ]
        }
       ],
       "layout": {
        "annotations": [
         {
          "showarrow": false,
          "text": "Data source: https://github.com/mantzaris/eurovision",
          "x": -0.08,
          "xref": "paper",
          "y": -0.22,
          "yref": "paper"
         }
        ],
        "showlegend": false,
        "title": "Number of countries competing in the Eurovision Song Contest",
        "xaxis": {
         "range": [
          1955,
          2020
         ],
         "title": "Year"
        },
        "yaxis": {
         "range": [
          0,
          45
         ],
         "title": "Countries"
        }
       }
      },
      "text/html": [
       "<div id=\"83b41419-07e5-44b9-840a-de0c8627db7c\" style=\"height: 525px; width: 100%;\" class=\"plotly-graph-div\"></div><script type=\"text/javascript\">require([\"plotly\"], function(Plotly) { window.PLOTLYENV=window.PLOTLYENV || {};window.PLOTLYENV.BASE_URL=\"https://plot.ly\";Plotly.newPlot(\"83b41419-07e5-44b9-840a-de0c8627db7c\", [{\"x\": [1956, 1957, 1958, 1959, 1960, 1961, 1962, 1963, 1964, 1965, 1966, 1967, 1968, 1969, 1970, 1971, 1972, 1973, 1974, 1975, 1976, 1977, 1978, 1979, 1980, 1981, 1982, 1983, 1984, 1985, 1986, 1987, 1988, 1989, 1990, 1991, 1992, 1993, 1994, 1995, 1996, 1997, 1998, 1999, 2000, 2001, 2002, 2003, 2004, 2005, 2006, 2007, 2008, 2009, 2010, 2011, 2012, 2013, 2014, 2015, 2016, 2017], \"y\": [7, 10, 10, 11, 13, 16, 16, 16, 16, 18, 18, 17, 17, 16, 12, 18, 18, 17, 17, 19, 18, 18, 20, 19, 19, 20, 18, 20, 19, 19, 20, 22, 21, 22, 22, 22, 23, 25, 25, 23, 23, 25, 25, 23, 24, 23, 24, 26, 36, 39, 38, 42, 43, 42, 39, 43, 42, 39, 37, 40, 42, 42], \"type\": \"scatter\", \"hoverinfo\": \"x+y\", \"uid\": \"fad2011f-7305-47ce-9399-2e552617586d\", \"line\": {\"color\": \"#e41a1c\"}}, {\"x\": [1956, 1970, 1993, 2004], \"type\": \"scatter\", \"marker\": {\"size\": 8, \"color\": \"#e41a1c\"}, \"mode\": \"markers\", \"y\": [7, 12, 25, 36], \"hovertext\": [\"Only seven countries participated in 1956 (each with two songs,which never happened again)\", \"Four countries did not participate in 1970 as a protest against rules allowing multiple winners in 1969\", \"Qualifications were introduced in 1993 to limit the number of competing countries to 25\", \"The introduction of a semi-final in 2004 enabled more countries to take part in the contest\"], \"hoverinfo\": \"text\", \"uid\": \"79c6fdf8-04f4-4105-821f-4afdfe8d224a\"}], {\"xaxis\": {\"range\": [1955, 2020], \"title\": \"Year\"}, \"showlegend\": false, \"annotations\": [{\"x\": -0.08, \"yref\": \"paper\", \"xref\": \"paper\", \"y\": -0.22, \"text\": \"Data source: https://github.com/mantzaris/eurovision\", \"showarrow\": false}], \"yaxis\": {\"range\": [0, 45], \"title\": \"Countries\"}, \"title\": \"Number of countries competing in the Eurovision Song Contest\"}, {\"linkText\": \"Export to plot.ly\", \"showLink\": true})});</script><script type=\"text/javascript\">window.addEventListener(\"resize\", function(){window._Plotly.Plots.resize(document.getElementById(\"83b41419-07e5-44b9-840a-de0c8627db7c\"));});</script>"
      ],
      "text/vnd.plotly.v1+html": [
       "<div id=\"83b41419-07e5-44b9-840a-de0c8627db7c\" style=\"height: 525px; width: 100%;\" class=\"plotly-graph-div\"></div><script type=\"text/javascript\">require([\"plotly\"], function(Plotly) { window.PLOTLYENV=window.PLOTLYENV || {};window.PLOTLYENV.BASE_URL=\"https://plot.ly\";Plotly.newPlot(\"83b41419-07e5-44b9-840a-de0c8627db7c\", [{\"x\": [1956, 1957, 1958, 1959, 1960, 1961, 1962, 1963, 1964, 1965, 1966, 1967, 1968, 1969, 1970, 1971, 1972, 1973, 1974, 1975, 1976, 1977, 1978, 1979, 1980, 1981, 1982, 1983, 1984, 1985, 1986, 1987, 1988, 1989, 1990, 1991, 1992, 1993, 1994, 1995, 1996, 1997, 1998, 1999, 2000, 2001, 2002, 2003, 2004, 2005, 2006, 2007, 2008, 2009, 2010, 2011, 2012, 2013, 2014, 2015, 2016, 2017], \"y\": [7, 10, 10, 11, 13, 16, 16, 16, 16, 18, 18, 17, 17, 16, 12, 18, 18, 17, 17, 19, 18, 18, 20, 19, 19, 20, 18, 20, 19, 19, 20, 22, 21, 22, 22, 22, 23, 25, 25, 23, 23, 25, 25, 23, 24, 23, 24, 26, 36, 39, 38, 42, 43, 42, 39, 43, 42, 39, 37, 40, 42, 42], \"type\": \"scatter\", \"hoverinfo\": \"x+y\", \"uid\": \"fad2011f-7305-47ce-9399-2e552617586d\", \"line\": {\"color\": \"#e41a1c\"}}, {\"x\": [1956, 1970, 1993, 2004], \"type\": \"scatter\", \"marker\": {\"size\": 8, \"color\": \"#e41a1c\"}, \"mode\": \"markers\", \"y\": [7, 12, 25, 36], \"hovertext\": [\"Only seven countries participated in 1956 (each with two songs,which never happened again)\", \"Four countries did not participate in 1970 as a protest against rules allowing multiple winners in 1969\", \"Qualifications were introduced in 1993 to limit the number of competing countries to 25\", \"The introduction of a semi-final in 2004 enabled more countries to take part in the contest\"], \"hoverinfo\": \"text\", \"uid\": \"79c6fdf8-04f4-4105-821f-4afdfe8d224a\"}], {\"xaxis\": {\"range\": [1955, 2020], \"title\": \"Year\"}, \"showlegend\": false, \"annotations\": [{\"x\": -0.08, \"yref\": \"paper\", \"xref\": \"paper\", \"y\": -0.22, \"text\": \"Data source: https://github.com/mantzaris/eurovision\", \"showarrow\": false}], \"yaxis\": {\"range\": [0, 45], \"title\": \"Countries\"}, \"title\": \"Number of countries competing in the Eurovision Song Contest\"}, {\"linkText\": \"Export to plot.ly\", \"showLink\": true})});</script><script type=\"text/javascript\">window.addEventListener(\"resize\", function(){window._Plotly.Plots.resize(document.getElementById(\"83b41419-07e5-44b9-840a-de0c8627db7c\"));});</script>"
      ]
     },
     "metadata": {},
     "output_type": "display_data"
    }
   ],
   "source": [
    "data = [\n",
    "    go.Scatter(\n",
    "        x=countries['Year'], \n",
    "        y=countries['Countries'], \n",
    "        line=dict(color=color),\n",
    "        hoverinfo='x+y'\n",
    "    ),\n",
    "    go.Scatter(\n",
    "        x=key_years['Year'],\n",
    "        y=key_years['Countries'],\n",
    "        mode='markers',\n",
    "        marker=dict(color=color, size=8),\n",
    "        hoverinfo='text',\n",
    "        hovertext=key_years['Text'].tolist())\n",
    "]\n",
    "layout = dict(\n",
    "    title=title,\n",
    "    xaxis=dict(title='Year', range=[1955, 2020]),\n",
    "    yaxis=dict(title='Countries', range=[0, 45]),\n",
    "    showlegend=False,\n",
    "    annotations=[\n",
    "        dict(xref='paper', x=-0.08,\n",
    "             yref='paper', y=-0.22,\n",
    "             text=data_source,\n",
    "             showarrow=False)\n",
    "    ]\n",
    ")\n",
    "iplot(dict(data=data, layout=layout))"
   ]
  },
  {
   "cell_type": "markdown",
   "metadata": {},
   "source": [
    "#### Bokeh"
   ]
  },
  {
   "cell_type": "code",
   "execution_count": 34,
   "metadata": {},
   "outputs": [],
   "source": [
    "from bokeh.plotting import figure, show, ColumnDataSource\n",
    "from bokeh.io import output_notebook\n",
    "from bokeh.models import HoverTool "
   ]
  },
  {
   "cell_type": "code",
   "execution_count": 35,
   "metadata": {},
   "outputs": [
    {
     "data": {
      "text/html": [
       "\n",
       "    <div class=\"bk-root\">\n",
       "        <a href=\"https://bokeh.pydata.org\" target=\"_blank\" class=\"bk-logo bk-logo-small bk-logo-notebook\"></a>\n",
       "        <span id=\"1001\">Loading BokehJS ...</span>\n",
       "    </div>"
      ]
     },
     "metadata": {},
     "output_type": "display_data"
    },
    {
     "data": {
      "application/javascript": [
       "\n",
       "(function(root) {\n",
       "  function now() {\n",
       "    return new Date();\n",
       "  }\n",
       "\n",
       "  var force = true;\n",
       "\n",
       "  if (typeof (root._bokeh_onload_callbacks) === \"undefined\" || force === true) {\n",
       "    root._bokeh_onload_callbacks = [];\n",
       "    root._bokeh_is_loading = undefined;\n",
       "  }\n",
       "\n",
       "  var JS_MIME_TYPE = 'application/javascript';\n",
       "  var HTML_MIME_TYPE = 'text/html';\n",
       "  var EXEC_MIME_TYPE = 'application/vnd.bokehjs_exec.v0+json';\n",
       "  var CLASS_NAME = 'output_bokeh rendered_html';\n",
       "\n",
       "  /**\n",
       "   * Render data to the DOM node\n",
       "   */\n",
       "  function render(props, node) {\n",
       "    var script = document.createElement(\"script\");\n",
       "    node.appendChild(script);\n",
       "  }\n",
       "\n",
       "  /**\n",
       "   * Handle when an output is cleared or removed\n",
       "   */\n",
       "  function handleClearOutput(event, handle) {\n",
       "    var cell = handle.cell;\n",
       "\n",
       "    var id = cell.output_area._bokeh_element_id;\n",
       "    var server_id = cell.output_area._bokeh_server_id;\n",
       "    // Clean up Bokeh references\n",
       "    if (id != null && id in Bokeh.index) {\n",
       "      Bokeh.index[id].model.document.clear();\n",
       "      delete Bokeh.index[id];\n",
       "    }\n",
       "\n",
       "    if (server_id !== undefined) {\n",
       "      // Clean up Bokeh references\n",
       "      var cmd = \"from bokeh.io.state import curstate; print(curstate().uuid_to_server['\" + server_id + \"'].get_sessions()[0].document.roots[0]._id)\";\n",
       "      cell.notebook.kernel.execute(cmd, {\n",
       "        iopub: {\n",
       "          output: function(msg) {\n",
       "            var id = msg.content.text.trim();\n",
       "            if (id in Bokeh.index) {\n",
       "              Bokeh.index[id].model.document.clear();\n",
       "              delete Bokeh.index[id];\n",
       "            }\n",
       "          }\n",
       "        }\n",
       "      });\n",
       "      // Destroy server and session\n",
       "      var cmd = \"import bokeh.io.notebook as ion; ion.destroy_server('\" + server_id + \"')\";\n",
       "      cell.notebook.kernel.execute(cmd);\n",
       "    }\n",
       "  }\n",
       "\n",
       "  /**\n",
       "   * Handle when a new output is added\n",
       "   */\n",
       "  function handleAddOutput(event, handle) {\n",
       "    var output_area = handle.output_area;\n",
       "    var output = handle.output;\n",
       "\n",
       "    // limit handleAddOutput to display_data with EXEC_MIME_TYPE content only\n",
       "    if ((output.output_type != \"display_data\") || (!output.data.hasOwnProperty(EXEC_MIME_TYPE))) {\n",
       "      return\n",
       "    }\n",
       "\n",
       "    var toinsert = output_area.element.find(\".\" + CLASS_NAME.split(' ')[0]);\n",
       "\n",
       "    if (output.metadata[EXEC_MIME_TYPE][\"id\"] !== undefined) {\n",
       "      toinsert[toinsert.length - 1].firstChild.textContent = output.data[JS_MIME_TYPE];\n",
       "      // store reference to embed id on output_area\n",
       "      output_area._bokeh_element_id = output.metadata[EXEC_MIME_TYPE][\"id\"];\n",
       "    }\n",
       "    if (output.metadata[EXEC_MIME_TYPE][\"server_id\"] !== undefined) {\n",
       "      var bk_div = document.createElement(\"div\");\n",
       "      bk_div.innerHTML = output.data[HTML_MIME_TYPE];\n",
       "      var script_attrs = bk_div.children[0].attributes;\n",
       "      for (var i = 0; i < script_attrs.length; i++) {\n",
       "        toinsert[toinsert.length - 1].firstChild.setAttribute(script_attrs[i].name, script_attrs[i].value);\n",
       "      }\n",
       "      // store reference to server id on output_area\n",
       "      output_area._bokeh_server_id = output.metadata[EXEC_MIME_TYPE][\"server_id\"];\n",
       "    }\n",
       "  }\n",
       "\n",
       "  function register_renderer(events, OutputArea) {\n",
       "\n",
       "    function append_mime(data, metadata, element) {\n",
       "      // create a DOM node to render to\n",
       "      var toinsert = this.create_output_subarea(\n",
       "        metadata,\n",
       "        CLASS_NAME,\n",
       "        EXEC_MIME_TYPE\n",
       "      );\n",
       "      this.keyboard_manager.register_events(toinsert);\n",
       "      // Render to node\n",
       "      var props = {data: data, metadata: metadata[EXEC_MIME_TYPE]};\n",
       "      render(props, toinsert[toinsert.length - 1]);\n",
       "      element.append(toinsert);\n",
       "      return toinsert\n",
       "    }\n",
       "\n",
       "    /* Handle when an output is cleared or removed */\n",
       "    events.on('clear_output.CodeCell', handleClearOutput);\n",
       "    events.on('delete.Cell', handleClearOutput);\n",
       "\n",
       "    /* Handle when a new output is added */\n",
       "    events.on('output_added.OutputArea', handleAddOutput);\n",
       "\n",
       "    /**\n",
       "     * Register the mime type and append_mime function with output_area\n",
       "     */\n",
       "    OutputArea.prototype.register_mime_type(EXEC_MIME_TYPE, append_mime, {\n",
       "      /* Is output safe? */\n",
       "      safe: true,\n",
       "      /* Index of renderer in `output_area.display_order` */\n",
       "      index: 0\n",
       "    });\n",
       "  }\n",
       "\n",
       "  // register the mime type if in Jupyter Notebook environment and previously unregistered\n",
       "  if (root.Jupyter !== undefined) {\n",
       "    var events = require('base/js/events');\n",
       "    var OutputArea = require('notebook/js/outputarea').OutputArea;\n",
       "\n",
       "    if (OutputArea.prototype.mime_types().indexOf(EXEC_MIME_TYPE) == -1) {\n",
       "      register_renderer(events, OutputArea);\n",
       "    }\n",
       "  }\n",
       "\n",
       "  \n",
       "  if (typeof (root._bokeh_timeout) === \"undefined\" || force === true) {\n",
       "    root._bokeh_timeout = Date.now() + 5000;\n",
       "    root._bokeh_failed_load = false;\n",
       "  }\n",
       "\n",
       "  var NB_LOAD_WARNING = {'data': {'text/html':\n",
       "     \"<div style='background-color: #fdd'>\\n\"+\n",
       "     \"<p>\\n\"+\n",
       "     \"BokehJS does not appear to have successfully loaded. If loading BokehJS from CDN, this \\n\"+\n",
       "     \"may be due to a slow or bad network connection. Possible fixes:\\n\"+\n",
       "     \"</p>\\n\"+\n",
       "     \"<ul>\\n\"+\n",
       "     \"<li>re-rerun `output_notebook()` to attempt to load from CDN again, or</li>\\n\"+\n",
       "     \"<li>use INLINE resources instead, as so:</li>\\n\"+\n",
       "     \"</ul>\\n\"+\n",
       "     \"<code>\\n\"+\n",
       "     \"from bokeh.resources import INLINE\\n\"+\n",
       "     \"output_notebook(resources=INLINE)\\n\"+\n",
       "     \"</code>\\n\"+\n",
       "     \"</div>\"}};\n",
       "\n",
       "  function display_loaded() {\n",
       "    var el = document.getElementById(\"1001\");\n",
       "    if (el != null) {\n",
       "      el.textContent = \"BokehJS is loading...\";\n",
       "    }\n",
       "    if (root.Bokeh !== undefined) {\n",
       "      if (el != null) {\n",
       "        el.textContent = \"BokehJS \" + root.Bokeh.version + \" successfully loaded.\";\n",
       "      }\n",
       "    } else if (Date.now() < root._bokeh_timeout) {\n",
       "      setTimeout(display_loaded, 100)\n",
       "    }\n",
       "  }\n",
       "\n",
       "\n",
       "  function run_callbacks() {\n",
       "    try {\n",
       "      root._bokeh_onload_callbacks.forEach(function(callback) { callback() });\n",
       "    }\n",
       "    finally {\n",
       "      delete root._bokeh_onload_callbacks\n",
       "    }\n",
       "    console.info(\"Bokeh: all callbacks have finished\");\n",
       "  }\n",
       "\n",
       "  function load_libs(js_urls, callback) {\n",
       "    root._bokeh_onload_callbacks.push(callback);\n",
       "    if (root._bokeh_is_loading > 0) {\n",
       "      console.log(\"Bokeh: BokehJS is being loaded, scheduling callback at\", now());\n",
       "      return null;\n",
       "    }\n",
       "    if (js_urls == null || js_urls.length === 0) {\n",
       "      run_callbacks();\n",
       "      return null;\n",
       "    }\n",
       "    console.log(\"Bokeh: BokehJS not loaded, scheduling load and callback at\", now());\n",
       "    root._bokeh_is_loading = js_urls.length;\n",
       "    for (var i = 0; i < js_urls.length; i++) {\n",
       "      var url = js_urls[i];\n",
       "      var s = document.createElement('script');\n",
       "      s.src = url;\n",
       "      s.async = false;\n",
       "      s.onreadystatechange = s.onload = function() {\n",
       "        root._bokeh_is_loading--;\n",
       "        if (root._bokeh_is_loading === 0) {\n",
       "          console.log(\"Bokeh: all BokehJS libraries loaded\");\n",
       "          run_callbacks()\n",
       "        }\n",
       "      };\n",
       "      s.onerror = function() {\n",
       "        console.warn(\"failed to load library \" + url);\n",
       "      };\n",
       "      console.log(\"Bokeh: injecting script tag for BokehJS library: \", url);\n",
       "      document.getElementsByTagName(\"head\")[0].appendChild(s);\n",
       "    }\n",
       "  };var element = document.getElementById(\"1001\");\n",
       "  if (element == null) {\n",
       "    console.log(\"Bokeh: ERROR: autoload.js configured with elementid '1001' but no matching script tag was found. \")\n",
       "    return false;\n",
       "  }\n",
       "\n",
       "  var js_urls = [\"https://cdn.pydata.org/bokeh/release/bokeh-1.0.1.min.js\", \"https://cdn.pydata.org/bokeh/release/bokeh-widgets-1.0.1.min.js\", \"https://cdn.pydata.org/bokeh/release/bokeh-tables-1.0.1.min.js\", \"https://cdn.pydata.org/bokeh/release/bokeh-gl-1.0.1.min.js\"];\n",
       "\n",
       "  var inline_js = [\n",
       "    function(Bokeh) {\n",
       "      Bokeh.set_log_level(\"info\");\n",
       "    },\n",
       "    \n",
       "    function(Bokeh) {\n",
       "      \n",
       "    },\n",
       "    function(Bokeh) {\n",
       "      console.log(\"Bokeh: injecting CSS: https://cdn.pydata.org/bokeh/release/bokeh-1.0.1.min.css\");\n",
       "      Bokeh.embed.inject_css(\"https://cdn.pydata.org/bokeh/release/bokeh-1.0.1.min.css\");\n",
       "      console.log(\"Bokeh: injecting CSS: https://cdn.pydata.org/bokeh/release/bokeh-widgets-1.0.1.min.css\");\n",
       "      Bokeh.embed.inject_css(\"https://cdn.pydata.org/bokeh/release/bokeh-widgets-1.0.1.min.css\");\n",
       "      console.log(\"Bokeh: injecting CSS: https://cdn.pydata.org/bokeh/release/bokeh-tables-1.0.1.min.css\");\n",
       "      Bokeh.embed.inject_css(\"https://cdn.pydata.org/bokeh/release/bokeh-tables-1.0.1.min.css\");\n",
       "    }\n",
       "  ];\n",
       "\n",
       "  function run_inline_js() {\n",
       "    \n",
       "    if ((root.Bokeh !== undefined) || (force === true)) {\n",
       "      for (var i = 0; i < inline_js.length; i++) {\n",
       "        inline_js[i].call(root, root.Bokeh);\n",
       "      }if (force === true) {\n",
       "        display_loaded();\n",
       "      }} else if (Date.now() < root._bokeh_timeout) {\n",
       "      setTimeout(run_inline_js, 100);\n",
       "    } else if (!root._bokeh_failed_load) {\n",
       "      console.log(\"Bokeh: BokehJS failed to load within specified timeout.\");\n",
       "      root._bokeh_failed_load = true;\n",
       "    } else if (force !== true) {\n",
       "      var cell = $(document.getElementById(\"1001\")).parents('.cell').data().cell;\n",
       "      cell.output_area.append_execute_result(NB_LOAD_WARNING)\n",
       "    }\n",
       "\n",
       "  }\n",
       "\n",
       "  if (root._bokeh_is_loading === 0) {\n",
       "    console.log(\"Bokeh: BokehJS loaded, going straight to plotting\");\n",
       "    run_inline_js();\n",
       "  } else {\n",
       "    load_libs(js_urls, function() {\n",
       "      console.log(\"Bokeh: BokehJS plotting callback run at\", now());\n",
       "      run_inline_js();\n",
       "    });\n",
       "  }\n",
       "}(window));"
      ],
      "application/vnd.bokehjs_load.v0+json": "\n(function(root) {\n  function now() {\n    return new Date();\n  }\n\n  var force = true;\n\n  if (typeof (root._bokeh_onload_callbacks) === \"undefined\" || force === true) {\n    root._bokeh_onload_callbacks = [];\n    root._bokeh_is_loading = undefined;\n  }\n\n  \n\n  \n  if (typeof (root._bokeh_timeout) === \"undefined\" || force === true) {\n    root._bokeh_timeout = Date.now() + 5000;\n    root._bokeh_failed_load = false;\n  }\n\n  var NB_LOAD_WARNING = {'data': {'text/html':\n     \"<div style='background-color: #fdd'>\\n\"+\n     \"<p>\\n\"+\n     \"BokehJS does not appear to have successfully loaded. If loading BokehJS from CDN, this \\n\"+\n     \"may be due to a slow or bad network connection. Possible fixes:\\n\"+\n     \"</p>\\n\"+\n     \"<ul>\\n\"+\n     \"<li>re-rerun `output_notebook()` to attempt to load from CDN again, or</li>\\n\"+\n     \"<li>use INLINE resources instead, as so:</li>\\n\"+\n     \"</ul>\\n\"+\n     \"<code>\\n\"+\n     \"from bokeh.resources import INLINE\\n\"+\n     \"output_notebook(resources=INLINE)\\n\"+\n     \"</code>\\n\"+\n     \"</div>\"}};\n\n  function display_loaded() {\n    var el = document.getElementById(\"1001\");\n    if (el != null) {\n      el.textContent = \"BokehJS is loading...\";\n    }\n    if (root.Bokeh !== undefined) {\n      if (el != null) {\n        el.textContent = \"BokehJS \" + root.Bokeh.version + \" successfully loaded.\";\n      }\n    } else if (Date.now() < root._bokeh_timeout) {\n      setTimeout(display_loaded, 100)\n    }\n  }\n\n\n  function run_callbacks() {\n    try {\n      root._bokeh_onload_callbacks.forEach(function(callback) { callback() });\n    }\n    finally {\n      delete root._bokeh_onload_callbacks\n    }\n    console.info(\"Bokeh: all callbacks have finished\");\n  }\n\n  function load_libs(js_urls, callback) {\n    root._bokeh_onload_callbacks.push(callback);\n    if (root._bokeh_is_loading > 0) {\n      console.log(\"Bokeh: BokehJS is being loaded, scheduling callback at\", now());\n      return null;\n    }\n    if (js_urls == null || js_urls.length === 0) {\n      run_callbacks();\n      return null;\n    }\n    console.log(\"Bokeh: BokehJS not loaded, scheduling load and callback at\", now());\n    root._bokeh_is_loading = js_urls.length;\n    for (var i = 0; i < js_urls.length; i++) {\n      var url = js_urls[i];\n      var s = document.createElement('script');\n      s.src = url;\n      s.async = false;\n      s.onreadystatechange = s.onload = function() {\n        root._bokeh_is_loading--;\n        if (root._bokeh_is_loading === 0) {\n          console.log(\"Bokeh: all BokehJS libraries loaded\");\n          run_callbacks()\n        }\n      };\n      s.onerror = function() {\n        console.warn(\"failed to load library \" + url);\n      };\n      console.log(\"Bokeh: injecting script tag for BokehJS library: \", url);\n      document.getElementsByTagName(\"head\")[0].appendChild(s);\n    }\n  };var element = document.getElementById(\"1001\");\n  if (element == null) {\n    console.log(\"Bokeh: ERROR: autoload.js configured with elementid '1001' but no matching script tag was found. \")\n    return false;\n  }\n\n  var js_urls = [\"https://cdn.pydata.org/bokeh/release/bokeh-1.0.1.min.js\", \"https://cdn.pydata.org/bokeh/release/bokeh-widgets-1.0.1.min.js\", \"https://cdn.pydata.org/bokeh/release/bokeh-tables-1.0.1.min.js\", \"https://cdn.pydata.org/bokeh/release/bokeh-gl-1.0.1.min.js\"];\n\n  var inline_js = [\n    function(Bokeh) {\n      Bokeh.set_log_level(\"info\");\n    },\n    \n    function(Bokeh) {\n      \n    },\n    function(Bokeh) {\n      console.log(\"Bokeh: injecting CSS: https://cdn.pydata.org/bokeh/release/bokeh-1.0.1.min.css\");\n      Bokeh.embed.inject_css(\"https://cdn.pydata.org/bokeh/release/bokeh-1.0.1.min.css\");\n      console.log(\"Bokeh: injecting CSS: https://cdn.pydata.org/bokeh/release/bokeh-widgets-1.0.1.min.css\");\n      Bokeh.embed.inject_css(\"https://cdn.pydata.org/bokeh/release/bokeh-widgets-1.0.1.min.css\");\n      console.log(\"Bokeh: injecting CSS: https://cdn.pydata.org/bokeh/release/bokeh-tables-1.0.1.min.css\");\n      Bokeh.embed.inject_css(\"https://cdn.pydata.org/bokeh/release/bokeh-tables-1.0.1.min.css\");\n    }\n  ];\n\n  function run_inline_js() {\n    \n    if ((root.Bokeh !== undefined) || (force === true)) {\n      for (var i = 0; i < inline_js.length; i++) {\n        inline_js[i].call(root, root.Bokeh);\n      }if (force === true) {\n        display_loaded();\n      }} else if (Date.now() < root._bokeh_timeout) {\n      setTimeout(run_inline_js, 100);\n    } else if (!root._bokeh_failed_load) {\n      console.log(\"Bokeh: BokehJS failed to load within specified timeout.\");\n      root._bokeh_failed_load = true;\n    } else if (force !== true) {\n      var cell = $(document.getElementById(\"1001\")).parents('.cell').data().cell;\n      cell.output_area.append_execute_result(NB_LOAD_WARNING)\n    }\n\n  }\n\n  if (root._bokeh_is_loading === 0) {\n    console.log(\"Bokeh: BokehJS loaded, going straight to plotting\");\n    run_inline_js();\n  } else {\n    load_libs(js_urls, function() {\n      console.log(\"Bokeh: BokehJS plotting callback run at\", now());\n      run_inline_js();\n    });\n  }\n}(window));"
     },
     "metadata": {},
     "output_type": "display_data"
    }
   ],
   "source": [
    "output_notebook()"
   ]
  },
  {
   "cell_type": "code",
   "execution_count": 36,
   "metadata": {},
   "outputs": [
    {
     "data": {
      "text/html": [
       "\n",
       "\n",
       "\n",
       "\n",
       "\n",
       "\n",
       "  <div class=\"bk-root\" id=\"e8974342-27b8-4253-8a84-47812f2a0340\"></div>\n"
      ]
     },
     "metadata": {},
     "output_type": "display_data"
    },
    {
     "data": {
      "application/javascript": [
       "(function(root) {\n",
       "  function embed_document(root) {\n",
       "    \n",
       "  var docs_json = {\"02c9616f-49c2-487f-8c2f-dfe6dbe47ffa\":{\"roots\":{\"references\":[{\"attributes\":{\"plot\":null,\"text\":\"\"},\"id\":\"1042\",\"type\":\"Title\"},{\"attributes\":{\"bottom_units\":\"screen\",\"fill_alpha\":{\"value\":0.5},\"fill_color\":{\"value\":\"lightgrey\"},\"left_units\":\"screen\",\"level\":\"overlay\",\"line_alpha\":{\"value\":1.0},\"line_color\":{\"value\":\"black\"},\"line_dash\":[4,4],\"line_width\":{\"value\":2},\"plot\":null,\"render_mode\":\"css\",\"right_units\":\"screen\",\"top_units\":\"screen\"},\"id\":\"1029\",\"type\":\"BoxAnnotation\"},{\"attributes\":{},\"id\":\"1049\",\"type\":\"UnionRenderers\"},{\"attributes\":{},\"id\":\"1024\",\"type\":\"SaveTool\"},{\"attributes\":{\"active_drag\":\"auto\",\"active_inspect\":\"auto\",\"active_multi\":null,\"active_scroll\":\"auto\",\"active_tap\":\"auto\",\"tools\":[{\"id\":\"1021\",\"type\":\"PanTool\"},{\"id\":\"1022\",\"type\":\"WheelZoomTool\"},{\"id\":\"1023\",\"type\":\"BoxZoomTool\"},{\"id\":\"1024\",\"type\":\"SaveTool\"},{\"id\":\"1025\",\"type\":\"ResetTool\"},{\"id\":\"1026\",\"type\":\"HelpTool\"}]},\"id\":\"1027\",\"type\":\"Toolbar\"},{\"attributes\":{},\"id\":\"1026\",\"type\":\"HelpTool\"},{\"attributes\":{\"formatter\":{\"id\":\"1046\",\"type\":\"BasicTickFormatter\"},\"plot\":{\"id\":\"1002\",\"subtype\":\"Figure\",\"type\":\"Plot\"},\"ticker\":{\"id\":\"1012\",\"type\":\"BasicTicker\"}},\"id\":\"1011\",\"type\":\"LinearAxis\"},{\"attributes\":{\"overlay\":{\"id\":\"1029\",\"type\":\"BoxAnnotation\"}},\"id\":\"1023\",\"type\":\"BoxZoomTool\"},{\"attributes\":{},\"id\":\"1012\",\"type\":\"BasicTicker\"},{\"attributes\":{},\"id\":\"1048\",\"type\":\"Selection\"},{\"attributes\":{},\"id\":\"1044\",\"type\":\"BasicTickFormatter\"},{\"attributes\":{\"callback\":null},\"id\":\"1003\",\"type\":\"DataRange1d\"},{\"attributes\":{},\"id\":\"1025\",\"type\":\"ResetTool\"},{\"attributes\":{},\"id\":\"1009\",\"type\":\"LinearScale\"},{\"attributes\":{},\"id\":\"1046\",\"type\":\"BasicTickFormatter\"},{\"attributes\":{},\"id\":\"1007\",\"type\":\"LinearScale\"},{\"attributes\":{},\"id\":\"1017\",\"type\":\"BasicTicker\"},{\"attributes\":{\"callback\":null,\"data\":{\"Countries\":[7,10,10,11,13,16,16,16,16,18,18,17,17,16,12,18,18,17,17,19,18,18,20,19,19,20,18,20,19,19,20,22,21,22,22,22,23,25,25,23,23,25,25,23,24,23,24,26,36,39,38,42,43,42,39,43,42,39,37,40,42,42],\"Year\":[1956,1957,1958,1959,1960,1961,1962,1963,1964,1965,1966,1967,1968,1969,1970,1971,1972,1973,1974,1975,1976,1977,1978,1979,1980,1981,1982,1983,1984,1985,1986,1987,1988,1989,1990,1991,1992,1993,1994,1995,1996,1997,1998,1999,2000,2001,2002,2003,2004,2005,2006,2007,2008,2009,2010,2011,2012,2013,2014,2015,2016,2017],\"index\":[0,1,2,3,4,5,6,7,8,9,10,11,12,13,14,15,16,17,18,19,20,21,22,23,24,25,26,27,28,29,30,31,32,33,34,35,36,37,38,39,40,41,42,43,44,45,46,47,48,49,50,51,52,53,54,55,56,57,58,59,60,61]},\"selected\":{\"id\":\"1048\",\"type\":\"Selection\"},\"selection_policy\":{\"id\":\"1049\",\"type\":\"UnionRenderers\"}},\"id\":\"1036\",\"type\":\"ColumnDataSource\"},{\"attributes\":{\"data_source\":{\"id\":\"1036\",\"type\":\"ColumnDataSource\"},\"glyph\":{\"id\":\"1038\",\"type\":\"Line\"},\"hover_glyph\":null,\"muted_glyph\":null,\"nonselection_glyph\":{\"id\":\"1039\",\"type\":\"Line\"},\"selection_glyph\":null,\"view\":{\"id\":\"1041\",\"type\":\"CDSView\"}},\"id\":\"1040\",\"type\":\"GlyphRenderer\"},{\"attributes\":{\"callback\":null},\"id\":\"1005\",\"type\":\"DataRange1d\"},{\"attributes\":{\"below\":[{\"id\":\"1011\",\"type\":\"LinearAxis\"}],\"left\":[{\"id\":\"1016\",\"type\":\"LinearAxis\"}],\"renderers\":[{\"id\":\"1011\",\"type\":\"LinearAxis\"},{\"id\":\"1015\",\"type\":\"Grid\"},{\"id\":\"1016\",\"type\":\"LinearAxis\"},{\"id\":\"1020\",\"type\":\"Grid\"},{\"id\":\"1029\",\"type\":\"BoxAnnotation\"},{\"id\":\"1040\",\"type\":\"GlyphRenderer\"}],\"title\":{\"id\":\"1042\",\"type\":\"Title\"},\"toolbar\":{\"id\":\"1027\",\"type\":\"Toolbar\"},\"x_range\":{\"id\":\"1003\",\"type\":\"DataRange1d\"},\"x_scale\":{\"id\":\"1007\",\"type\":\"LinearScale\"},\"y_range\":{\"id\":\"1005\",\"type\":\"DataRange1d\"},\"y_scale\":{\"id\":\"1009\",\"type\":\"LinearScale\"}},\"id\":\"1002\",\"subtype\":\"Figure\",\"type\":\"Plot\"},{\"attributes\":{},\"id\":\"1021\",\"type\":\"PanTool\"},{\"attributes\":{\"dimension\":1,\"plot\":{\"id\":\"1002\",\"subtype\":\"Figure\",\"type\":\"Plot\"},\"ticker\":{\"id\":\"1017\",\"type\":\"BasicTicker\"}},\"id\":\"1020\",\"type\":\"Grid\"},{\"attributes\":{\"line_color\":\"#1f77b4\",\"x\":{\"field\":\"Year\"},\"y\":{\"field\":\"Countries\"}},\"id\":\"1038\",\"type\":\"Line\"},{\"attributes\":{\"line_alpha\":0.1,\"line_color\":\"#1f77b4\",\"x\":{\"field\":\"Year\"},\"y\":{\"field\":\"Countries\"}},\"id\":\"1039\",\"type\":\"Line\"},{\"attributes\":{},\"id\":\"1022\",\"type\":\"WheelZoomTool\"},{\"attributes\":{\"source\":{\"id\":\"1036\",\"type\":\"ColumnDataSource\"}},\"id\":\"1041\",\"type\":\"CDSView\"},{\"attributes\":{\"plot\":{\"id\":\"1002\",\"subtype\":\"Figure\",\"type\":\"Plot\"},\"ticker\":{\"id\":\"1012\",\"type\":\"BasicTicker\"}},\"id\":\"1015\",\"type\":\"Grid\"},{\"attributes\":{\"formatter\":{\"id\":\"1044\",\"type\":\"BasicTickFormatter\"},\"plot\":{\"id\":\"1002\",\"subtype\":\"Figure\",\"type\":\"Plot\"},\"ticker\":{\"id\":\"1017\",\"type\":\"BasicTicker\"}},\"id\":\"1016\",\"type\":\"LinearAxis\"}],\"root_ids\":[\"1002\"]},\"title\":\"Bokeh Application\",\"version\":\"1.0.1\"}};\n",
       "  var render_items = [{\"docid\":\"02c9616f-49c2-487f-8c2f-dfe6dbe47ffa\",\"roots\":{\"1002\":\"e8974342-27b8-4253-8a84-47812f2a0340\"}}];\n",
       "  root.Bokeh.embed.embed_items_notebook(docs_json, render_items);\n",
       "\n",
       "  }\n",
       "  if (root.Bokeh !== undefined) {\n",
       "    embed_document(root);\n",
       "  } else {\n",
       "    var attempts = 0;\n",
       "    var timer = setInterval(function(root) {\n",
       "      if (root.Bokeh !== undefined) {\n",
       "        embed_document(root);\n",
       "        clearInterval(timer);\n",
       "      }\n",
       "      attempts++;\n",
       "      if (attempts > 100) {\n",
       "        console.log(\"Bokeh: ERROR: Unable to run BokehJS code because BokehJS library is missing\");\n",
       "        clearInterval(timer);\n",
       "      }\n",
       "    }, 10, root)\n",
       "  }\n",
       "})(window);"
      ],
      "application/vnd.bokehjs_exec.v0+json": ""
     },
     "metadata": {
      "application/vnd.bokehjs_exec.v0+json": {
       "id": "1002"
      }
     },
     "output_type": "display_data"
    }
   ],
   "source": [
    "p = figure()\n",
    "p.line(x='Year', y='Countries', source=countries)\n",
    "show(p)"
   ]
  },
  {
   "cell_type": "markdown",
   "metadata": {},
   "source": [
    "Refine the visualization:\n",
    "- Choose a brighter color\n",
    "- Label the axes and adjust their ranges\n",
    "- Add a title"
   ]
  },
  {
   "cell_type": "code",
   "execution_count": 37,
   "metadata": {},
   "outputs": [
    {
     "data": {
      "text/html": [
       "\n",
       "\n",
       "\n",
       "\n",
       "\n",
       "\n",
       "  <div class=\"bk-root\" id=\"e4da9190-1525-4696-bc9e-a69f1b7da417\"></div>\n"
      ]
     },
     "metadata": {},
     "output_type": "display_data"
    },
    {
     "data": {
      "application/javascript": [
       "(function(root) {\n",
       "  function embed_document(root) {\n",
       "    \n",
       "  var docs_json = {\"926e3a4a-0008-43a2-8107-fda7a1d3ecae\":{\"roots\":{\"references\":[{\"attributes\":{\"source\":{\"id\":\"1141\",\"type\":\"ColumnDataSource\"}},\"id\":\"1146\",\"type\":\"CDSView\"},{\"attributes\":{},\"id\":\"1122\",\"type\":\"BasicTicker\"},{\"attributes\":{\"plot\":null,\"text\":\"Number of countries competing in the Eurovision Song Contest\"},\"id\":\"1105\",\"type\":\"Title\"},{\"attributes\":{\"axis_label\":\"Year\",\"formatter\":{\"id\":\"1159\",\"type\":\"BasicTickFormatter\"},\"plot\":{\"id\":\"1106\",\"subtype\":\"Figure\",\"type\":\"Plot\"},\"ticker\":{\"id\":\"1117\",\"type\":\"BasicTicker\"}},\"id\":\"1116\",\"type\":\"LinearAxis\"},{\"attributes\":{\"callback\":null,\"end\":44},\"id\":\"1110\",\"type\":\"Range1d\"},{\"attributes\":{},\"id\":\"1161\",\"type\":\"Selection\"},{\"attributes\":{\"axis_label\":\"Countries\",\"formatter\":{\"id\":\"1157\",\"type\":\"BasicTickFormatter\"},\"plot\":{\"id\":\"1106\",\"subtype\":\"Figure\",\"type\":\"Plot\"},\"ticker\":{\"id\":\"1122\",\"type\":\"BasicTicker\"}},\"id\":\"1121\",\"type\":\"LinearAxis\"},{\"attributes\":{},\"id\":\"1114\",\"type\":\"LinearScale\"},{\"attributes\":{},\"id\":\"1130\",\"type\":\"ResetTool\"},{\"attributes\":{},\"id\":\"1127\",\"type\":\"WheelZoomTool\"},{\"attributes\":{\"plot\":{\"id\":\"1106\",\"subtype\":\"Figure\",\"type\":\"Plot\"},\"ticker\":{\"id\":\"1117\",\"type\":\"BasicTicker\"}},\"id\":\"1120\",\"type\":\"Grid\"},{\"attributes\":{\"overlay\":{\"id\":\"1134\",\"type\":\"BoxAnnotation\"}},\"id\":\"1128\",\"type\":\"BoxZoomTool\"},{\"attributes\":{},\"id\":\"1112\",\"type\":\"LinearScale\"},{\"attributes\":{\"callback\":null,\"data\":{\"Countries\":[7,10,10,11,13,16,16,16,16,18,18,17,17,16,12,18,18,17,17,19,18,18,20,19,19,20,18,20,19,19,20,22,21,22,22,22,23,25,25,23,23,25,25,23,24,23,24,26,36,39,38,42,43,42,39,43,42,39,37,40,42,42],\"Year\":[1956,1957,1958,1959,1960,1961,1962,1963,1964,1965,1966,1967,1968,1969,1970,1971,1972,1973,1974,1975,1976,1977,1978,1979,1980,1981,1982,1983,1984,1985,1986,1987,1988,1989,1990,1991,1992,1993,1994,1995,1996,1997,1998,1999,2000,2001,2002,2003,2004,2005,2006,2007,2008,2009,2010,2011,2012,2013,2014,2015,2016,2017],\"index\":[0,1,2,3,4,5,6,7,8,9,10,11,12,13,14,15,16,17,18,19,20,21,22,23,24,25,26,27,28,29,30,31,32,33,34,35,36,37,38,39,40,41,42,43,44,45,46,47,48,49,50,51,52,53,54,55,56,57,58,59,60,61]},\"selected\":{\"id\":\"1161\",\"type\":\"Selection\"},\"selection_policy\":{\"id\":\"1162\",\"type\":\"UnionRenderers\"}},\"id\":\"1141\",\"type\":\"ColumnDataSource\"},{\"attributes\":{\"data_source\":{\"id\":\"1141\",\"type\":\"ColumnDataSource\"},\"glyph\":{\"id\":\"1143\",\"type\":\"Line\"},\"hover_glyph\":null,\"muted_glyph\":null,\"nonselection_glyph\":{\"id\":\"1144\",\"type\":\"Line\"},\"selection_glyph\":null,\"view\":{\"id\":\"1146\",\"type\":\"CDSView\"}},\"id\":\"1145\",\"type\":\"GlyphRenderer\"},{\"attributes\":{\"bottom_units\":\"screen\",\"fill_alpha\":{\"value\":0.5},\"fill_color\":{\"value\":\"lightgrey\"},\"left_units\":\"screen\",\"level\":\"overlay\",\"line_alpha\":{\"value\":1.0},\"line_color\":{\"value\":\"black\"},\"line_dash\":[4,4],\"line_width\":{\"value\":2},\"plot\":null,\"render_mode\":\"css\",\"right_units\":\"screen\",\"top_units\":\"screen\"},\"id\":\"1134\",\"type\":\"BoxAnnotation\"},{\"attributes\":{},\"id\":\"1117\",\"type\":\"BasicTicker\"},{\"attributes\":{},\"id\":\"1126\",\"type\":\"PanTool\"},{\"attributes\":{\"active_drag\":\"auto\",\"active_inspect\":\"auto\",\"active_multi\":null,\"active_scroll\":\"auto\",\"active_tap\":\"auto\",\"tools\":[{\"id\":\"1126\",\"type\":\"PanTool\"},{\"id\":\"1127\",\"type\":\"WheelZoomTool\"},{\"id\":\"1128\",\"type\":\"BoxZoomTool\"},{\"id\":\"1129\",\"type\":\"SaveTool\"},{\"id\":\"1130\",\"type\":\"ResetTool\"},{\"id\":\"1131\",\"type\":\"HelpTool\"}]},\"id\":\"1132\",\"type\":\"Toolbar\"},{\"attributes\":{\"callback\":null},\"id\":\"1108\",\"type\":\"DataRange1d\"},{\"attributes\":{},\"id\":\"1159\",\"type\":\"BasicTickFormatter\"},{\"attributes\":{},\"id\":\"1131\",\"type\":\"HelpTool\"},{\"attributes\":{\"below\":[{\"id\":\"1116\",\"type\":\"LinearAxis\"}],\"left\":[{\"id\":\"1121\",\"type\":\"LinearAxis\"}],\"renderers\":[{\"id\":\"1116\",\"type\":\"LinearAxis\"},{\"id\":\"1120\",\"type\":\"Grid\"},{\"id\":\"1121\",\"type\":\"LinearAxis\"},{\"id\":\"1125\",\"type\":\"Grid\"},{\"id\":\"1134\",\"type\":\"BoxAnnotation\"},{\"id\":\"1145\",\"type\":\"GlyphRenderer\"}],\"title\":{\"id\":\"1105\",\"type\":\"Title\"},\"toolbar\":{\"id\":\"1132\",\"type\":\"Toolbar\"},\"x_range\":{\"id\":\"1108\",\"type\":\"DataRange1d\"},\"x_scale\":{\"id\":\"1112\",\"type\":\"LinearScale\"},\"y_range\":{\"id\":\"1110\",\"type\":\"Range1d\"},\"y_scale\":{\"id\":\"1114\",\"type\":\"LinearScale\"}},\"id\":\"1106\",\"subtype\":\"Figure\",\"type\":\"Plot\"},{\"attributes\":{\"line_alpha\":0.1,\"line_color\":\"#1f77b4\",\"x\":{\"field\":\"Year\"},\"y\":{\"field\":\"Countries\"}},\"id\":\"1144\",\"type\":\"Line\"},{\"attributes\":{\"dimension\":1,\"plot\":{\"id\":\"1106\",\"subtype\":\"Figure\",\"type\":\"Plot\"},\"ticker\":{\"id\":\"1122\",\"type\":\"BasicTicker\"}},\"id\":\"1125\",\"type\":\"Grid\"},{\"attributes\":{},\"id\":\"1129\",\"type\":\"SaveTool\"},{\"attributes\":{\"line_color\":\"#e41a1c\",\"x\":{\"field\":\"Year\"},\"y\":{\"field\":\"Countries\"}},\"id\":\"1143\",\"type\":\"Line\"},{\"attributes\":{},\"id\":\"1157\",\"type\":\"BasicTickFormatter\"},{\"attributes\":{},\"id\":\"1162\",\"type\":\"UnionRenderers\"}],\"root_ids\":[\"1106\"]},\"title\":\"Bokeh Application\",\"version\":\"1.0.1\"}};\n",
       "  var render_items = [{\"docid\":\"926e3a4a-0008-43a2-8107-fda7a1d3ecae\",\"roots\":{\"1106\":\"e4da9190-1525-4696-bc9e-a69f1b7da417\"}}];\n",
       "  root.Bokeh.embed.embed_items_notebook(docs_json, render_items);\n",
       "\n",
       "  }\n",
       "  if (root.Bokeh !== undefined) {\n",
       "    embed_document(root);\n",
       "  } else {\n",
       "    var attempts = 0;\n",
       "    var timer = setInterval(function(root) {\n",
       "      if (root.Bokeh !== undefined) {\n",
       "        embed_document(root);\n",
       "        clearInterval(timer);\n",
       "      }\n",
       "      attempts++;\n",
       "      if (attempts > 100) {\n",
       "        console.log(\"Bokeh: ERROR: Unable to run BokehJS code because BokehJS library is missing\");\n",
       "        clearInterval(timer);\n",
       "      }\n",
       "    }, 10, root)\n",
       "  }\n",
       "})(window);"
      ],
      "application/vnd.bokehjs_exec.v0+json": ""
     },
     "metadata": {
      "application/vnd.bokehjs_exec.v0+json": {
       "id": "1106"
      }
     },
     "output_type": "display_data"
    }
   ],
   "source": [
    "p = figure(title=title, \n",
    "           x_axis_label='Year', \n",
    "           y_axis_label='Countries',\n",
    "           y_range=(0, 44))\n",
    "p.line(x='Year', y='Countries', source=countries, color=color)\n",
    "show(p)"
   ]
  },
  {
   "cell_type": "markdown",
   "metadata": {},
   "source": [
    "Add annotations"
   ]
  },
  {
   "cell_type": "code",
   "execution_count": 38,
   "metadata": {},
   "outputs": [
    {
     "data": {
      "text/html": [
       "\n",
       "\n",
       "\n",
       "\n",
       "\n",
       "\n",
       "  <div class=\"bk-root\" id=\"71816d47-883e-437a-ac6e-467b52559dc7\"></div>\n"
      ]
     },
     "metadata": {},
     "output_type": "display_data"
    },
    {
     "data": {
      "application/javascript": [
       "(function(root) {\n",
       "  function embed_document(root) {\n",
       "    \n",
       "  var docs_json = {\"c26f2730-ee4d-485a-9f7b-a5ef57b20932\":{\"roots\":{\"references\":[{\"attributes\":{\"callback\":null},\"id\":\"1215\",\"type\":\"DataRange1d\"},{\"attributes\":{\"source\":{\"id\":\"1254\",\"type\":\"ColumnDataSource\"}},\"id\":\"1259\",\"type\":\"CDSView\"},{\"attributes\":{},\"id\":\"1288\",\"type\":\"Selection\"},{\"attributes\":{\"data_source\":{\"id\":\"1248\",\"type\":\"ColumnDataSource\"},\"glyph\":{\"id\":\"1250\",\"type\":\"Line\"},\"hover_glyph\":null,\"muted_glyph\":null,\"nonselection_glyph\":{\"id\":\"1251\",\"type\":\"Line\"},\"selection_glyph\":null,\"view\":{\"id\":\"1253\",\"type\":\"CDSView\"}},\"id\":\"1252\",\"type\":\"GlyphRenderer\"},{\"attributes\":{},\"id\":\"1282\",\"type\":\"BasicTickFormatter\"},{\"attributes\":{\"active_drag\":\"auto\",\"active_inspect\":\"auto\",\"active_multi\":null,\"active_scroll\":\"auto\",\"active_tap\":\"auto\",\"tools\":[{\"id\":\"1233\",\"type\":\"PanTool\"},{\"id\":\"1234\",\"type\":\"WheelZoomTool\"},{\"id\":\"1235\",\"type\":\"BoxZoomTool\"},{\"id\":\"1236\",\"type\":\"SaveTool\"},{\"id\":\"1237\",\"type\":\"ResetTool\"},{\"id\":\"1238\",\"type\":\"HelpTool\"},{\"id\":\"1260\",\"type\":\"HoverTool\"},{\"id\":\"1261\",\"type\":\"HoverTool\"}]},\"id\":\"1239\",\"type\":\"Toolbar\"},{\"attributes\":{\"line_alpha\":0.1,\"line_color\":\"#1f77b4\",\"x\":{\"field\":\"Year\"},\"y\":{\"field\":\"Countries\"}},\"id\":\"1251\",\"type\":\"Line\"},{\"attributes\":{\"plot\":null,\"text\":\"Number of countries competing in the Eurovision Song Contest\"},\"id\":\"1212\",\"type\":\"Title\"},{\"attributes\":{},\"id\":\"1287\",\"type\":\"UnionRenderers\"},{\"attributes\":{},\"id\":\"1238\",\"type\":\"HelpTool\"},{\"attributes\":{\"source\":{\"id\":\"1248\",\"type\":\"ColumnDataSource\"}},\"id\":\"1253\",\"type\":\"CDSView\"},{\"attributes\":{},\"id\":\"1229\",\"type\":\"BasicTicker\"},{\"attributes\":{},\"id\":\"1286\",\"type\":\"Selection\"},{\"attributes\":{},\"id\":\"1284\",\"type\":\"BasicTickFormatter\"},{\"attributes\":{\"callback\":null,\"data\":{\"Countries\":[7,12,25,36],\"Paragraph\":[\"Only seven countries participated\\nin 1956 (each with two songs,\\nwhich never happened again)\",\"Four countries did not participate\\nin 1970 as a protest against rules\\nallowing multiple winners in 1969\",\"Qualifications were introduced\\nin 1993 to limit the number of\\ncompeting countries to 25\",\"The introduction of a semi-final\\nin 2004 enabled more countries\\nto take part in the contest\"],\"Text\":[\"Only seven countries participated in 1956 (each with two songs,which never happened again)\",\"Four countries did not participate in 1970 as a protest against rules allowing multiple winners in 1969\",\"Qualifications were introduced in 1993 to limit the number of competing countries to 25\",\"The introduction of a semi-final in 2004 enabled more countries to take part in the contest\"],\"Year\":[1956,1970,1993,2004],\"index\":[0,14,37,48]},\"selected\":{\"id\":\"1288\",\"type\":\"Selection\"},\"selection_policy\":{\"id\":\"1289\",\"type\":\"UnionRenderers\"}},\"id\":\"1254\",\"type\":\"ColumnDataSource\"},{\"attributes\":{\"overlay\":{\"id\":\"1241\",\"type\":\"BoxAnnotation\"}},\"id\":\"1235\",\"type\":\"BoxZoomTool\"},{\"attributes\":{\"fill_color\":{\"value\":\"#e41a1c\"},\"line_color\":{\"value\":\"#e41a1c\"},\"size\":{\"units\":\"screen\",\"value\":6},\"x\":{\"field\":\"Year\"},\"y\":{\"field\":\"Countries\"}},\"id\":\"1256\",\"type\":\"Circle\"},{\"attributes\":{\"below\":[{\"id\":\"1223\",\"type\":\"LinearAxis\"}],\"left\":[{\"id\":\"1228\",\"type\":\"LinearAxis\"}],\"renderers\":[{\"id\":\"1223\",\"type\":\"LinearAxis\"},{\"id\":\"1227\",\"type\":\"Grid\"},{\"id\":\"1228\",\"type\":\"LinearAxis\"},{\"id\":\"1232\",\"type\":\"Grid\"},{\"id\":\"1241\",\"type\":\"BoxAnnotation\"},{\"id\":\"1252\",\"type\":\"GlyphRenderer\"},{\"id\":\"1258\",\"type\":\"GlyphRenderer\"}],\"title\":{\"id\":\"1212\",\"type\":\"Title\"},\"toolbar\":{\"id\":\"1239\",\"type\":\"Toolbar\"},\"x_range\":{\"id\":\"1215\",\"type\":\"DataRange1d\"},\"x_scale\":{\"id\":\"1219\",\"type\":\"LinearScale\"},\"y_range\":{\"id\":\"1217\",\"type\":\"Range1d\"},\"y_scale\":{\"id\":\"1221\",\"type\":\"LinearScale\"}},\"id\":\"1213\",\"subtype\":\"Figure\",\"type\":\"Plot\"},{\"attributes\":{\"line_color\":\"#e41a1c\",\"x\":{\"field\":\"Year\"},\"y\":{\"field\":\"Countries\"}},\"id\":\"1250\",\"type\":\"Line\"},{\"attributes\":{},\"id\":\"1289\",\"type\":\"UnionRenderers\"},{\"attributes\":{\"axis_label\":\"Year\",\"formatter\":{\"id\":\"1284\",\"type\":\"BasicTickFormatter\"},\"plot\":{\"id\":\"1213\",\"subtype\":\"Figure\",\"type\":\"Plot\"},\"ticker\":{\"id\":\"1224\",\"type\":\"BasicTicker\"}},\"id\":\"1223\",\"type\":\"LinearAxis\"},{\"attributes\":{\"bottom_units\":\"screen\",\"fill_alpha\":{\"value\":0.5},\"fill_color\":{\"value\":\"lightgrey\"},\"left_units\":\"screen\",\"level\":\"overlay\",\"line_alpha\":{\"value\":1.0},\"line_color\":{\"value\":\"black\"},\"line_dash\":[4,4],\"line_width\":{\"value\":2},\"plot\":null,\"render_mode\":\"css\",\"right_units\":\"screen\",\"top_units\":\"screen\"},\"id\":\"1241\",\"type\":\"BoxAnnotation\"},{\"attributes\":{},\"id\":\"1221\",\"type\":\"LinearScale\"},{\"attributes\":{\"dimension\":1,\"plot\":{\"id\":\"1213\",\"subtype\":\"Figure\",\"type\":\"Plot\"},\"ticker\":{\"id\":\"1229\",\"type\":\"BasicTicker\"}},\"id\":\"1232\",\"type\":\"Grid\"},{\"attributes\":{},\"id\":\"1233\",\"type\":\"PanTool\"},{\"attributes\":{\"callback\":null,\"end\":44},\"id\":\"1217\",\"type\":\"Range1d\"},{\"attributes\":{},\"id\":\"1234\",\"type\":\"WheelZoomTool\"},{\"attributes\":{\"fill_alpha\":{\"value\":0.1},\"fill_color\":{\"value\":\"#1f77b4\"},\"line_alpha\":{\"value\":0.1},\"line_color\":{\"value\":\"#1f77b4\"},\"size\":{\"units\":\"screen\",\"value\":6},\"x\":{\"field\":\"Year\"},\"y\":{\"field\":\"Countries\"}},\"id\":\"1257\",\"type\":\"Circle\"},{\"attributes\":{\"axis_label\":\"Countries\",\"formatter\":{\"id\":\"1282\",\"type\":\"BasicTickFormatter\"},\"plot\":{\"id\":\"1213\",\"subtype\":\"Figure\",\"type\":\"Plot\"},\"ticker\":{\"id\":\"1229\",\"type\":\"BasicTicker\"}},\"id\":\"1228\",\"type\":\"LinearAxis\"},{\"attributes\":{},\"id\":\"1219\",\"type\":\"LinearScale\"},{\"attributes\":{\"callback\":null,\"renderers\":[{\"id\":\"1252\",\"type\":\"GlyphRenderer\"}],\"tooltips\":[[\"Year\",\"$x{(0.)}\"],[\"Countries\",\"$y{(0.)}\"]]},\"id\":\"1260\",\"type\":\"HoverTool\"},{\"attributes\":{},\"id\":\"1224\",\"type\":\"BasicTicker\"},{\"attributes\":{\"callback\":null,\"renderers\":[{\"id\":\"1258\",\"type\":\"GlyphRenderer\"}],\"tooltips\":[[\"Text\",\"$Text\"]]},\"id\":\"1261\",\"type\":\"HoverTool\"},{\"attributes\":{\"callback\":null,\"data\":{\"Countries\":[7,10,10,11,13,16,16,16,16,18,18,17,17,16,12,18,18,17,17,19,18,18,20,19,19,20,18,20,19,19,20,22,21,22,22,22,23,25,25,23,23,25,25,23,24,23,24,26,36,39,38,42,43,42,39,43,42,39,37,40,42,42],\"Year\":[1956,1957,1958,1959,1960,1961,1962,1963,1964,1965,1966,1967,1968,1969,1970,1971,1972,1973,1974,1975,1976,1977,1978,1979,1980,1981,1982,1983,1984,1985,1986,1987,1988,1989,1990,1991,1992,1993,1994,1995,1996,1997,1998,1999,2000,2001,2002,2003,2004,2005,2006,2007,2008,2009,2010,2011,2012,2013,2014,2015,2016,2017],\"index\":[0,1,2,3,4,5,6,7,8,9,10,11,12,13,14,15,16,17,18,19,20,21,22,23,24,25,26,27,28,29,30,31,32,33,34,35,36,37,38,39,40,41,42,43,44,45,46,47,48,49,50,51,52,53,54,55,56,57,58,59,60,61]},\"selected\":{\"id\":\"1286\",\"type\":\"Selection\"},\"selection_policy\":{\"id\":\"1287\",\"type\":\"UnionRenderers\"}},\"id\":\"1248\",\"type\":\"ColumnDataSource\"},{\"attributes\":{\"data_source\":{\"id\":\"1254\",\"type\":\"ColumnDataSource\"},\"glyph\":{\"id\":\"1256\",\"type\":\"Circle\"},\"hover_glyph\":null,\"muted_glyph\":null,\"nonselection_glyph\":{\"id\":\"1257\",\"type\":\"Circle\"},\"selection_glyph\":null,\"view\":{\"id\":\"1259\",\"type\":\"CDSView\"}},\"id\":\"1258\",\"type\":\"GlyphRenderer\"},{\"attributes\":{},\"id\":\"1237\",\"type\":\"ResetTool\"},{\"attributes\":{},\"id\":\"1236\",\"type\":\"SaveTool\"},{\"attributes\":{\"plot\":{\"id\":\"1213\",\"subtype\":\"Figure\",\"type\":\"Plot\"},\"ticker\":{\"id\":\"1224\",\"type\":\"BasicTicker\"}},\"id\":\"1227\",\"type\":\"Grid\"}],\"root_ids\":[\"1213\"]},\"title\":\"Bokeh Application\",\"version\":\"1.0.1\"}};\n",
       "  var render_items = [{\"docid\":\"c26f2730-ee4d-485a-9f7b-a5ef57b20932\",\"roots\":{\"1213\":\"71816d47-883e-437a-ac6e-467b52559dc7\"}}];\n",
       "  root.Bokeh.embed.embed_items_notebook(docs_json, render_items);\n",
       "\n",
       "  }\n",
       "  if (root.Bokeh !== undefined) {\n",
       "    embed_document(root);\n",
       "  } else {\n",
       "    var attempts = 0;\n",
       "    var timer = setInterval(function(root) {\n",
       "      if (root.Bokeh !== undefined) {\n",
       "        embed_document(root);\n",
       "        clearInterval(timer);\n",
       "      }\n",
       "      attempts++;\n",
       "      if (attempts > 100) {\n",
       "        console.log(\"Bokeh: ERROR: Unable to run BokehJS code because BokehJS library is missing\");\n",
       "        clearInterval(timer);\n",
       "      }\n",
       "    }, 10, root)\n",
       "  }\n",
       "})(window);"
      ],
      "application/vnd.bokehjs_exec.v0+json": ""
     },
     "metadata": {
      "application/vnd.bokehjs_exec.v0+json": {
       "id": "1213"
      }
     },
     "output_type": "display_data"
    }
   ],
   "source": [
    "p = figure(title=title, \n",
    "           x_axis_label='Year', \n",
    "           y_axis_label='Countries',\n",
    "           y_range=(0, 44),\n",
    "          )\n",
    "tooltips_line = [\n",
    "    (\"Year\", \"$x{(0.)}\"),\n",
    "    (\"Countries\", \"$y{(0.)}\")\n",
    "]\n",
    "tooltips_circle = [\n",
    "    (\"Text\", \"$Text\"),\n",
    "]\n",
    "bl = p.line(x='Year', y='Countries', source=countries, color=color)\n",
    "bc = p.circle(x='Year', y='Countries', source=ColumnDataSource(key_years), size=6, color=color)\n",
    "hover_line = HoverTool(renderers=[bl], tooltips=tooltips_line)\n",
    "hover_circle = HoverTool(renderers=[bc], tooltips=tooltips_circle)\n",
    "p.add_tools(hover_line, hover_circle)\n",
    "show(p)"
   ]
  }
 ],
 "metadata": {
  "anaconda-cloud": {},
  "kernelspec": {
   "display_name": "Python 3",
   "language": "python",
   "name": "python3"
  },
  "language_info": {
   "codemirror_mode": {
    "name": "ipython",
    "version": 3
   },
   "file_extension": ".py",
   "mimetype": "text/x-python",
   "name": "python",
   "nbconvert_exporter": "python",
   "pygments_lexer": "ipython3",
   "version": "3.5.2"
  }
 },
 "nbformat": 4,
 "nbformat_minor": 2
}
