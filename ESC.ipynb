{
 "cells": [
  {
   "cell_type": "markdown",
   "metadata": {},
   "source": [
    "# Eurovision Song Contest"
   ]
  },
  {
   "cell_type": "markdown",
   "metadata": {},
   "source": [
    "This notebook requires that the following files (from https://github.com/mantzaris/eurovision) are in the same directory:\n",
    "- 1957.csv\n",
    "- 1958.csv\n",
    "- ...\n",
    "- 2017.csv"
   ]
  },
  {
   "cell_type": "markdown",
   "metadata": {},
   "source": [
    "## Import the libraries"
   ]
  },
  {
   "cell_type": "code",
   "execution_count": null,
   "metadata": {
    "collapsed": true
   },
   "outputs": [],
   "source": [
    "import numpy as np\n",
    "# matplotlib\n",
    "import matplotlib.pyplot as plt\n",
    "from matplotlib.colors import ListedColormap, BoundaryNorm, to_hex\n",
    "from matplotlib.ticker import MultipleLocator\n",
    "%matplotlib inline\n",
    "# pandas\n",
    "import pandas as pd"
   ]
  },
  {
   "cell_type": "markdown",
   "metadata": {},
   "source": [
    "## Read the data"
   ]
  },
  {
   "cell_type": "code",
   "execution_count": null,
   "metadata": {},
   "outputs": [],
   "source": [
    "df = pd.read_csv(\"1957.csv\")\n",
    "df.head()"
   ]
  },
  {
   "cell_type": "code",
   "execution_count": null,
   "metadata": {},
   "outputs": [],
   "source": [
    "df = pd.read_csv(\"2017.csv\")\n",
    "df.head()"
   ]
  },
  {
   "cell_type": "markdown",
   "metadata": {},
   "source": [
    "By chance we spot that Romania is misspelled, so we check for spelling errors"
   ]
  },
  {
   "cell_type": "code",
   "execution_count": null,
   "metadata": {},
   "outputs": [],
   "source": [
    "for year in range(1957, 2018):\n",
    "    df = pd.read_csv(\"{}.csv\".format(year))\n",
    "    countries1 = df['From country'].tolist()\n",
    "    countries2 = df.columns.tolist()\n",
    "    countries2.remove('From country')\n",
    "    for c2 in countries2:\n",
    "        if c2 not in countries1:\n",
    "            print(year, c2)"
   ]
  },
  {
   "cell_type": "markdown",
   "metadata": {},
   "source": [
    "Store all the data into a single data frame (and take care of the 'Romainia' spelling error) "
   ]
  },
  {
   "cell_type": "code",
   "execution_count": null,
   "metadata": {},
   "outputs": [],
   "source": [
    "esc_points = pd.DataFrame()\n",
    "for year in range(1957, 2018):\n",
    "    df = pd.read_csv(\"{}.csv\".format(year))\n",
    "    df['Year'] = year\n",
    "    df.rename(index=str, columns={\"Romainia\": \"Romania\"})\n",
    "    esc_points = esc_points.append(df, ignore_index=True, sort=True)\n",
    "esc_points.head()"
   ]
  },
  {
   "cell_type": "markdown",
   "metadata": {},
   "source": [
    "Move the columns 'Year' and 'From country' to the beginning"
   ]
  },
  {
   "cell_type": "code",
   "execution_count": null,
   "metadata": {},
   "outputs": [],
   "source": [
    "cols = esc_points.columns.tolist()\n",
    "cols.insert(0, cols.pop(cols.index('Year')))\n",
    "cols.insert(1, cols.pop(cols.index('From country')))\n",
    "esc_points = esc_points.reindex(columns=cols)\n",
    "esc_points.head()"
   ]
  },
  {
   "cell_type": "markdown",
   "metadata": {},
   "source": [
    "Save the table to a file"
   ]
  },
  {
   "cell_type": "code",
   "execution_count": null,
   "metadata": {
    "collapsed": true
   },
   "outputs": [],
   "source": [
    "esc_points.to_csv(\"ESC_points_1957-2017.csv\", sep=';', na_rep='NaN')"
   ]
  },
  {
   "cell_type": "markdown",
   "metadata": {},
   "source": [
    "## Competing countries through the years"
   ]
  },
  {
   "cell_type": "markdown",
   "metadata": {},
   "source": [
    "Visualize how the number of competing countries changed through the years"
   ]
  },
  {
   "cell_type": "code",
   "execution_count": null,
   "metadata": {},
   "outputs": [],
   "source": [
    "countries = esc_points[['From country', 'Year']].groupby('Year').count()\n",
    "countries.head()"
   ]
  },
  {
   "cell_type": "code",
   "execution_count": null,
   "metadata": {},
   "outputs": [],
   "source": [
    "countries.reset_index(inplace=True)\n",
    "countries.columns = ['Year', 'Countries']\n",
    "countries.head()"
   ]
  },
  {
   "cell_type": "markdown",
   "metadata": {},
   "source": [
    "The first year (1956) of ESC is missing, add it manually"
   ]
  },
  {
   "cell_type": "code",
   "execution_count": null,
   "metadata": {},
   "outputs": [],
   "source": [
    "countries.loc[-1] = [1956, 7]          # add a row\n",
    "countries.index = countries.index + 1  # shift the index\n",
    "countries = countries.sort_index()     # sort by index\n",
    "countries.head()\n",
    "# Note that if you run this cell more than once, you will get multiple rows with year 1956!"
   ]
  },
  {
   "cell_type": "markdown",
   "metadata": {},
   "source": [
    "Save the table to a file"
   ]
  },
  {
   "cell_type": "code",
   "execution_count": null,
   "metadata": {
    "collapsed": true
   },
   "outputs": [],
   "source": [
    "esc_points.to_csv(\"ESC_countries_1956-2017.csv\", sep=';')"
   ]
  },
  {
   "cell_type": "markdown",
   "metadata": {},
   "source": [
    "### Visualize the number of countries"
   ]
  },
  {
   "cell_type": "code",
   "execution_count": null,
   "metadata": {},
   "outputs": [],
   "source": [
    "ax = countries.plot.line(x='Year', y='Countries')\n",
    "plt.show()"
   ]
  },
  {
   "cell_type": "markdown",
   "metadata": {},
   "source": [
    "Refine the visualization:\n",
    "- Create a bigger plot (with larger fonts)\n",
    "- Choose a brighter color\n",
    "- Remove the legend\n",
    "- Adjust the y axis (to start at 0)\n",
    "- Add a title"
   ]
  },
  {
   "cell_type": "code",
   "execution_count": null,
   "metadata": {},
   "outputs": [],
   "source": [
    "categorical_map = plt.get_cmap('Set1') # Choose the red color from the 'Set1' categorical map\n",
    "color = to_hex(categorical_map.colors[0])"
   ]
  },
  {
   "cell_type": "code",
   "execution_count": null,
   "metadata": {},
   "outputs": [],
   "source": [
    "plt.rcParams.update({'font.size': 12})\n",
    "ax = countries.plot.line(x='Year', y='Countries', figsize=(10,8), legend=None, c=color)\n",
    "ax.set_ylim([0, 45])\n",
    "ax.set_title('Number of countries competing in the Eurovision Song Contest')\n",
    "plt.show()"
   ]
  },
  {
   "cell_type": "markdown",
   "metadata": {},
   "source": [
    "Choose interesting years to be highlighted"
   ]
  },
  {
   "cell_type": "code",
   "execution_count": null,
   "metadata": {},
   "outputs": [],
   "source": [
    "key_years = countries.loc[countries['Year'].isin([1956, 1970, 1993, 2004])]\n",
    "key_years"
   ]
  },
  {
   "cell_type": "code",
   "execution_count": null,
   "metadata": {},
   "outputs": [],
   "source": [
    "text = ['Only seven countries participated in 1956 (each with two songs,which never happened again)', \n",
    "        'Four countries did not participate in 1970 as a protest against rules allowing multiple winners in 1969', \n",
    "        'Qualifications were introduced in 1993 to limit the number of competing countries to 25', \n",
    "        'The introduction of a semi-final in 2004 enabled more countries to take part in the contest'\n",
    "       ]\n",
    "paragraph = ['Only seven countries participated\\nin 1956 (each with two songs,\\nwhich never happened again)',\n",
    "             'Four countries did not participate\\nin 1970 as a protest against rules\\nallowing multiple winners in 1969',\n",
    "             'Qualifications were introduced\\nin 1993 to limit the number of\\ncompeting countries to 25',\n",
    "             'The introduction of a semi-final\\nin 2004 enabled more countries\\nto take part in the contest'\n",
    "            ]\n",
    "key_years = key_years.assign(Text=text, Paragraph=paragraph)\n",
    "key_years"
   ]
  },
  {
   "cell_type": "markdown",
   "metadata": {},
   "source": [
    "Add annotations and data source (and create a function so that is easy to invoke)"
   ]
  },
  {
   "cell_type": "code",
   "execution_count": null,
   "metadata": {
    "collapsed": true
   },
   "outputs": [],
   "source": [
    "title = 'Number of countries competing in the Eurovision Song Contest'\n",
    "data_source = 'Data source: https://github.com/mantzaris/eurovision'"
   ]
  },
  {
   "cell_type": "code",
   "execution_count": null,
   "metadata": {},
   "outputs": [],
   "source": [
    "def plot_countries():\n",
    "    ax = countries.plot.line(x='Year', y='Countries', figsize=(10,8), legend=None, c=color)\n",
    "    key_years.plot.scatter(ax=ax, x='Year', y='Countries', s=50, legend=None, c=color)\n",
    "    ax.set_ylim([0, 45])\n",
    "    ax.set_title(title)\n",
    "    ann_x = key_years['Year'].tolist()\n",
    "    ann_y = key_years['Countries'].tolist()\n",
    "    ann_t = key_years['Paragraph'].tolist()\n",
    "    ax.annotate(ann_t[0], \n",
    "                xy=(ann_x[0] + 0.5, ann_y[0]), \n",
    "                xytext=(30, 7), textcoords='offset points', \n",
    "                ha='left', va='top', \n",
    "                arrowprops=dict(color='k', arrowstyle='-|>', connectionstyle='arc,angleA=90,angleB=0,armB=40'))\n",
    "    ax.annotate(ann_t[1], \n",
    "                xy=(ann_x[1] + 0.5, ann_y[1]), \n",
    "                xytext=(30, 22), textcoords='offset points', \n",
    "                ha='left', va='top', \n",
    "                arrowprops=dict(color='k', arrowstyle='-|>', connectionstyle='arc,angleA=90,angleB=0,armB=40'))\n",
    "    ax.annotate(ann_t[2], \n",
    "                xy=(ann_x[2] - 0.5, ann_y[2]), \n",
    "                xytext=(-30, 22), textcoords='offset points', \n",
    "                ha='right', va='top', \n",
    "                arrowprops=dict(color='k', arrowstyle='-|>', connectionstyle='arc,angleA=0,angleB=180,armB=50'))\n",
    "    ax.annotate(ann_t[3], \n",
    "                xy=(ann_x[3] - 0.5, ann_y[3]), \n",
    "                xytext=(-30, 22), textcoords='offset points', \n",
    "                ha='right', va='top', \n",
    "                arrowprops=dict(color='k', arrowstyle='-|>', connectionstyle='arc,angleA=0,angleB=180,armB=50'))\n",
    "    ax.annotate(data_source,\n",
    "                color='dimgray',\n",
    "                xy=(0, 0), \n",
    "                xycoords='figure fraction',\n",
    "                xytext=(30, 0),  \n",
    "                textcoords='offset points',\n",
    "                ha='left', va='bottom')\n",
    "    plt.show()"
   ]
  },
  {
   "cell_type": "code",
   "execution_count": null,
   "metadata": {},
   "outputs": [],
   "source": [
    "plot_countries()"
   ]
  },
  {
   "cell_type": "markdown",
   "metadata": {},
   "source": [
    "Change style and try again"
   ]
  },
  {
   "cell_type": "code",
   "execution_count": null,
   "metadata": {
    "collapsed": true
   },
   "outputs": [],
   "source": [
    "import warnings\n",
    "import matplotlib.cbook\n",
    "\n",
    "def change_style(style_name='default'):\n",
    "    warnings.filterwarnings(\"ignore\",category=matplotlib.cbook.mplDeprecation) # To suppres deprecation warnings\n",
    "    plt.rcParams.update(plt.rcParamsDefault) # To reset the style\n",
    "    # To restart the inline backend \n",
    "    %matplotlib inline                       \n",
    "    plt.style.use(style_name)"
   ]
  },
  {
   "cell_type": "code",
   "execution_count": null,
   "metadata": {},
   "outputs": [],
   "source": [
    "change_style('ggplot')\n",
    "plot_countries()"
   ]
  },
  {
   "cell_type": "code",
   "execution_count": null,
   "metadata": {},
   "outputs": [],
   "source": [
    "change_style('seaborn')\n",
    "plot_countries()"
   ]
  },
  {
   "cell_type": "code",
   "execution_count": null,
   "metadata": {},
   "outputs": [],
   "source": [
    "change_style('fivethirtyeight')\n",
    "plot_countries()"
   ]
  },
  {
   "cell_type": "markdown",
   "metadata": {},
   "source": [
    "### Add interactivity"
   ]
  },
  {
   "cell_type": "markdown",
   "metadata": {},
   "source": [
    "#### Plotly"
   ]
  },
  {
   "cell_type": "code",
   "execution_count": null,
   "metadata": {},
   "outputs": [],
   "source": [
    "from plotly.offline import init_notebook_mode, plot, iplot\n",
    "import plotly.graph_objs as go\n",
    "init_notebook_mode(connected=True)"
   ]
  },
  {
   "cell_type": "markdown",
   "metadata": {},
   "source": [
    "A useful Plotly cheatsheet: https://images.plot.ly/plotly-documentation/images/python_cheat_sheet.pdf"
   ]
  },
  {
   "cell_type": "code",
   "execution_count": null,
   "metadata": {},
   "outputs": [],
   "source": [
    "data = [\n",
    "    go.Scatter(\n",
    "        x=countries['Year'], \n",
    "        y=countries['Countries']\n",
    "    )\n",
    "]\n",
    "iplot(data)"
   ]
  },
  {
   "attachments": {},
   "cell_type": "markdown",
   "metadata": {},
   "source": [
    "Refine the visualization:\n",
    "- Choose a brighter color\n",
    "- Label the axes and adjust their ranges\n",
    "- Add a title"
   ]
  },
  {
   "cell_type": "code",
   "execution_count": null,
   "metadata": {},
   "outputs": [],
   "source": [
    "data = [\n",
    "    go.Scatter(\n",
    "        x=countries['Year'], \n",
    "        y=countries['Countries'], \n",
    "        line=dict(color=color)\n",
    "    )\n",
    "]\n",
    "layout = dict(\n",
    "    title=title,\n",
    "    xaxis=dict(title='Year', range=[1955, 2020]),\n",
    "    yaxis=dict(title='Countries', range=[0, 45])\n",
    ")\n",
    "iplot(dict(data=data, layout=layout))"
   ]
  },
  {
   "cell_type": "markdown",
   "metadata": {},
   "source": [
    "Add annotations"
   ]
  },
  {
   "cell_type": "code",
   "execution_count": null,
   "metadata": {},
   "outputs": [],
   "source": [
    "data = [\n",
    "    go.Scatter(\n",
    "        x=countries['Year'], \n",
    "        y=countries['Countries'], \n",
    "        line=dict(color=color),\n",
    "        hoverinfo='x+y'\n",
    "    ),\n",
    "    go.Scatter(\n",
    "        x=key_years['Year'],\n",
    "        y=key_years['Countries'],\n",
    "        mode='markers',\n",
    "        marker=dict(color=color, size=8),\n",
    "        hoverinfo='text',\n",
    "        hovertext=key_years['Text'].tolist())\n",
    "]\n",
    "layout = dict(\n",
    "    title=title,\n",
    "    xaxis=dict(title='Year', range=[1955, 2020]),\n",
    "    yaxis=dict(title='Countries', range=[0, 45]),\n",
    "    showlegend=False,\n",
    "    annotations=[\n",
    "        dict(xref='paper', x=-0.08,\n",
    "             yref='paper', y=-0.22,\n",
    "             text=data_source,\n",
    "             showarrow=False)\n",
    "    ]\n",
    ")\n",
    "iplot(dict(data=data, layout=layout))"
   ]
  },
  {
   "cell_type": "markdown",
   "metadata": {},
   "source": [
    "#### Bokeh"
   ]
  },
  {
   "cell_type": "code",
   "execution_count": null,
   "metadata": {
    "collapsed": true
   },
   "outputs": [],
   "source": [
    "from bokeh.plotting import figure, show, ColumnDataSource\n",
    "from bokeh.io import output_notebook\n",
    "from bokeh.models import HoverTool "
   ]
  },
  {
   "cell_type": "code",
   "execution_count": null,
   "metadata": {},
   "outputs": [],
   "source": [
    "output_notebook()"
   ]
  },
  {
   "cell_type": "code",
   "execution_count": null,
   "metadata": {},
   "outputs": [],
   "source": [
    "p = figure()\n",
    "p.line(x='Year', y='Countries', source=countries)\n",
    "show(p)"
   ]
  },
  {
   "cell_type": "markdown",
   "metadata": {},
   "source": [
    "Refine the visualization:\n",
    "- Choose a brighter color\n",
    "- Label the axes and adjust their ranges\n",
    "- Add a title"
   ]
  },
  {
   "cell_type": "code",
   "execution_count": null,
   "metadata": {},
   "outputs": [],
   "source": [
    "p = figure(title=title, \n",
    "           x_axis_label='Year', \n",
    "           y_axis_label='Countries',\n",
    "           y_range=(0, 44))\n",
    "p.line(x='Year', y='Countries', source=countries, color=color)\n",
    "show(p)"
   ]
  },
  {
   "cell_type": "markdown",
   "metadata": {},
   "source": [
    "Add annotations"
   ]
  },
  {
   "cell_type": "code",
   "execution_count": null,
   "metadata": {},
   "outputs": [],
   "source": [
    "p = figure(title=title, \n",
    "           x_axis_label='Year', \n",
    "           y_axis_label='Countries',\n",
    "           y_range=(0, 44),\n",
    "          )\n",
    "tooltips_line = [\n",
    "    (\"Year\", \"$x{(0.)}\"),\n",
    "    (\"Countries\", \"$y{(0.)}\")\n",
    "]\n",
    "tooltips_circle = [\n",
    "    (\"Text\", \"$Text\"),\n",
    "]\n",
    "bl = p.line(x='Year', y='Countries', source=countries, color=color)\n",
    "bc = p.circle(x='Year', y='Countries', source=ColumnDataSource(key_years), size=6, color=color)\n",
    "hover_line = HoverTool(renderers=[bl], tooltips=tooltips_line)\n",
    "hover_circle = HoverTool(renderers=[bc], tooltips=tooltips_circle)\n",
    "p.add_tools(hover_line, hover_circle)\n",
    "show(p)"
   ]
  },
  {
   "cell_type": "code",
   "execution_count": null,
   "metadata": {
    "collapsed": true
   },
   "outputs": [],
   "source": []
  }
 ],
 "metadata": {
  "kernelspec": {
   "display_name": "Python 3",
   "language": "python",
   "name": "python3"
  },
  "language_info": {
   "codemirror_mode": {
    "name": "ipython",
    "version": 3
   },
   "file_extension": ".py",
   "mimetype": "text/x-python",
   "name": "python",
   "nbconvert_exporter": "python",
   "pygments_lexer": "ipython3",
   "version": "3.6.3"
  }
 },
 "nbformat": 4,
 "nbformat_minor": 2
}
